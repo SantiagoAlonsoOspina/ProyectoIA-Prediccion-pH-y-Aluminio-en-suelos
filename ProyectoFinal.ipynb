{
  "nbformat": 4,
  "nbformat_minor": 0,
  "metadata": {
    "colab": {
      "provenance": [],
      "collapsed_sections": [
        "Hu3Qubtg-euM"
      ],
      "gpuType": "T4"
    },
    "kernelspec": {
      "name": "python3",
      "display_name": "Python 3"
    },
    "language_info": {
      "name": "python"
    },
    "accelerator": "GPU"
  },
  "cells": [
    {
      "cell_type": "markdown",
      "source": [
        "#**PREDICCIÓN DE CONTENIDO DE ALUMINIO Y NIVELES DE PH EN SUELO AGRÍCOLA**\n",
        "Manuel Alejandro González, Santiago Alons"
      ],
      "metadata": {
        "id": "70kEoTlXzzqR"
      }
    },
    {
      "cell_type": "code",
      "source": [
        "import pandas as pd\n",
        "from google.colab import drive\n",
        "drive.mount('/content/drive')"
      ],
      "metadata": {
        "id": "bDBbnOnZCIcv",
        "colab": {
          "base_uri": "https://localhost:8080/"
        },
        "outputId": "9eadb043-98c4-4dfe-ea70-de41b9a81576"
      },
      "execution_count": null,
      "outputs": [
        {
          "output_type": "stream",
          "name": "stdout",
          "text": [
            "Mounted at /content/drive\n"
          ]
        }
      ]
    },
    {
      "cell_type": "code",
      "source": [
        "import tensorflow as tf\n",
        "from sklearn.neural_network import MLPRegressor\n",
        "\n",
        "# Set the backend to TensorFlow\n",
        "tf.compat.v1.keras.backend.set_session(tf.compat.v1.Session(config=tf.compat.v1.ConfigProto(log_device_placement=True)))\n"
      ],
      "metadata": {
        "colab": {
          "base_uri": "https://localhost:8080/"
        },
        "id": "yVQUH1mboOjo",
        "outputId": "ee7e4781-3fd0-4568-f7f8-5c180c2d2613"
      },
      "execution_count": null,
      "outputs": [
        {
          "output_type": "stream",
          "name": "stdout",
          "text": [
            "Device mapping:\n",
            "/job:localhost/replica:0/task:0/device:GPU:0 -> device: 0, name: Tesla T4, pci bus id: 0000:00:04.0, compute capability: 7.5\n",
            "\n"
          ]
        }
      ]
    },
    {
      "cell_type": "markdown",
      "source": [
        "###**Datos ALUMINIO**"
      ],
      "metadata": {
        "id": "h5Nwv_PcZD96"
      }
    },
    {
      "cell_type": "code",
      "source": [
        "data =  pd.read_csv(\"/content/NIRSdata.csv\", encoding = 'latin-1', low_memory = False)\n",
        "listCol = [28]+ [i for i in range(51, 297)] #23 -> pH, 28 -> Al\n",
        "subsetAl = data.iloc[:, listCol]\n",
        "subsetAl.sample(10)"
      ],
      "metadata": {
        "colab": {
          "base_uri": "https://localhost:8080/",
          "height": 474
        },
        "id": "Kym8f40rDRjH",
        "outputId": "dcb15f09-42ca-49a2-b38f-dcf186d0b2ca"
      },
      "execution_count": null,
      "outputs": [
        {
          "output_type": "execute_result",
          "data": {
            "text/plain": [
              "     Aluminio (Al) intercambiable     408.5       417     425.5       434  \\\n",
              "3357                           ND  1.023203  1.033149  1.035952  1.037741   \n",
              "4277                          NaN       NaN       NaN       NaN       NaN   \n",
              "3452                         0.28  1.057443  1.069787  1.076628  1.081139   \n",
              "5029                          NaN       NaN       NaN       NaN       NaN   \n",
              "4401                          NaN       NaN       NaN       NaN       NaN   \n",
              "750                          3.69  0.758171  0.758346  0.753771  0.746488   \n",
              "730                           NaN  1.246978  1.251745  1.253083  1.252798   \n",
              "4774                          NaN       NaN       NaN       NaN       NaN   \n",
              "1189                         0.35  1.112024  1.115514  1.114036  1.109804   \n",
              "1374                           ND  0.993090  1.000883  1.003830  1.004923   \n",
              "\n",
              "         442.5       451     459.5       468     476.5  ...    2414.5  \\\n",
              "3357  1.040631  1.047011  1.053485  1.055994  1.051175  ...  0.452233   \n",
              "4277       NaN       NaN       NaN       NaN       NaN  ...       NaN   \n",
              "3452  1.084710  1.087161  1.088296  1.087135  1.082083  ...  0.528100   \n",
              "5029       NaN       NaN       NaN       NaN       NaN  ...       NaN   \n",
              "4401       NaN       NaN       NaN       NaN       NaN  ...       NaN   \n",
              "750   0.738168  0.730505  0.723920  0.717727  0.710529  ...  0.336224   \n",
              "730   1.252329  1.251785  1.250933  1.249047  1.245250  ...  0.561925   \n",
              "4774       NaN       NaN       NaN       NaN       NaN  ...       NaN   \n",
              "1189  1.105305  1.102907  1.101895  1.100405  1.095867  ...  0.617218   \n",
              "1374  1.005242  1.005268  1.004882  1.003494  0.999462  ...  0.369686   \n",
              "\n",
              "          2423    2431.5      2440    2448.5      2457    2465.5      2474  \\\n",
              "3357  0.459727  0.469473  0.478109  0.483503  0.488431  0.494558  0.501973   \n",
              "4277       NaN       NaN       NaN       NaN       NaN       NaN       NaN   \n",
              "3452  0.535338  0.543255  0.551287  0.559400  0.567599  0.575875  0.583530   \n",
              "5029       NaN       NaN       NaN       NaN       NaN       NaN       NaN   \n",
              "4401       NaN       NaN       NaN       NaN       NaN       NaN       NaN   \n",
              "750   0.342957  0.351229  0.358600  0.363509  0.367755  0.372058  0.377203   \n",
              "730   0.568471  0.575743  0.583132  0.590763  0.598471  0.606042  0.613132   \n",
              "4774       NaN       NaN       NaN       NaN       NaN       NaN       NaN   \n",
              "1189  0.622655  0.629449  0.635971  0.641177  0.646152  0.651435  0.656837   \n",
              "1374  0.374642  0.380373  0.385826  0.390412  0.394926  0.399624  0.404282   \n",
              "\n",
              "        2482.5      2491  \n",
              "3357  0.510266  0.515220  \n",
              "4277       NaN       NaN  \n",
              "3452  0.590769  0.596444  \n",
              "5029       NaN       NaN  \n",
              "4401       NaN       NaN  \n",
              "750   0.383502  0.387389  \n",
              "730   0.619196  0.623943  \n",
              "4774       NaN       NaN  \n",
              "1189  0.662125  0.665705  \n",
              "1374  0.408837  0.411771  \n",
              "\n",
              "[10 rows x 247 columns]"
            ],
            "text/html": [
              "\n",
              "  <div id=\"df-4eb95c01-7167-4250-81cf-77835fe976e6\">\n",
              "    <div class=\"colab-df-container\">\n",
              "      <div>\n",
              "<style scoped>\n",
              "    .dataframe tbody tr th:only-of-type {\n",
              "        vertical-align: middle;\n",
              "    }\n",
              "\n",
              "    .dataframe tbody tr th {\n",
              "        vertical-align: top;\n",
              "    }\n",
              "\n",
              "    .dataframe thead th {\n",
              "        text-align: right;\n",
              "    }\n",
              "</style>\n",
              "<table border=\"1\" class=\"dataframe\">\n",
              "  <thead>\n",
              "    <tr style=\"text-align: right;\">\n",
              "      <th></th>\n",
              "      <th>Aluminio (Al) intercambiable</th>\n",
              "      <th>408.5</th>\n",
              "      <th>417</th>\n",
              "      <th>425.5</th>\n",
              "      <th>434</th>\n",
              "      <th>442.5</th>\n",
              "      <th>451</th>\n",
              "      <th>459.5</th>\n",
              "      <th>468</th>\n",
              "      <th>476.5</th>\n",
              "      <th>...</th>\n",
              "      <th>2414.5</th>\n",
              "      <th>2423</th>\n",
              "      <th>2431.5</th>\n",
              "      <th>2440</th>\n",
              "      <th>2448.5</th>\n",
              "      <th>2457</th>\n",
              "      <th>2465.5</th>\n",
              "      <th>2474</th>\n",
              "      <th>2482.5</th>\n",
              "      <th>2491</th>\n",
              "    </tr>\n",
              "  </thead>\n",
              "  <tbody>\n",
              "    <tr>\n",
              "      <th>3357</th>\n",
              "      <td>ND</td>\n",
              "      <td>1.023203</td>\n",
              "      <td>1.033149</td>\n",
              "      <td>1.035952</td>\n",
              "      <td>1.037741</td>\n",
              "      <td>1.040631</td>\n",
              "      <td>1.047011</td>\n",
              "      <td>1.053485</td>\n",
              "      <td>1.055994</td>\n",
              "      <td>1.051175</td>\n",
              "      <td>...</td>\n",
              "      <td>0.452233</td>\n",
              "      <td>0.459727</td>\n",
              "      <td>0.469473</td>\n",
              "      <td>0.478109</td>\n",
              "      <td>0.483503</td>\n",
              "      <td>0.488431</td>\n",
              "      <td>0.494558</td>\n",
              "      <td>0.501973</td>\n",
              "      <td>0.510266</td>\n",
              "      <td>0.515220</td>\n",
              "    </tr>\n",
              "    <tr>\n",
              "      <th>4277</th>\n",
              "      <td>NaN</td>\n",
              "      <td>NaN</td>\n",
              "      <td>NaN</td>\n",
              "      <td>NaN</td>\n",
              "      <td>NaN</td>\n",
              "      <td>NaN</td>\n",
              "      <td>NaN</td>\n",
              "      <td>NaN</td>\n",
              "      <td>NaN</td>\n",
              "      <td>NaN</td>\n",
              "      <td>...</td>\n",
              "      <td>NaN</td>\n",
              "      <td>NaN</td>\n",
              "      <td>NaN</td>\n",
              "      <td>NaN</td>\n",
              "      <td>NaN</td>\n",
              "      <td>NaN</td>\n",
              "      <td>NaN</td>\n",
              "      <td>NaN</td>\n",
              "      <td>NaN</td>\n",
              "      <td>NaN</td>\n",
              "    </tr>\n",
              "    <tr>\n",
              "      <th>3452</th>\n",
              "      <td>0.28</td>\n",
              "      <td>1.057443</td>\n",
              "      <td>1.069787</td>\n",
              "      <td>1.076628</td>\n",
              "      <td>1.081139</td>\n",
              "      <td>1.084710</td>\n",
              "      <td>1.087161</td>\n",
              "      <td>1.088296</td>\n",
              "      <td>1.087135</td>\n",
              "      <td>1.082083</td>\n",
              "      <td>...</td>\n",
              "      <td>0.528100</td>\n",
              "      <td>0.535338</td>\n",
              "      <td>0.543255</td>\n",
              "      <td>0.551287</td>\n",
              "      <td>0.559400</td>\n",
              "      <td>0.567599</td>\n",
              "      <td>0.575875</td>\n",
              "      <td>0.583530</td>\n",
              "      <td>0.590769</td>\n",
              "      <td>0.596444</td>\n",
              "    </tr>\n",
              "    <tr>\n",
              "      <th>5029</th>\n",
              "      <td>NaN</td>\n",
              "      <td>NaN</td>\n",
              "      <td>NaN</td>\n",
              "      <td>NaN</td>\n",
              "      <td>NaN</td>\n",
              "      <td>NaN</td>\n",
              "      <td>NaN</td>\n",
              "      <td>NaN</td>\n",
              "      <td>NaN</td>\n",
              "      <td>NaN</td>\n",
              "      <td>...</td>\n",
              "      <td>NaN</td>\n",
              "      <td>NaN</td>\n",
              "      <td>NaN</td>\n",
              "      <td>NaN</td>\n",
              "      <td>NaN</td>\n",
              "      <td>NaN</td>\n",
              "      <td>NaN</td>\n",
              "      <td>NaN</td>\n",
              "      <td>NaN</td>\n",
              "      <td>NaN</td>\n",
              "    </tr>\n",
              "    <tr>\n",
              "      <th>4401</th>\n",
              "      <td>NaN</td>\n",
              "      <td>NaN</td>\n",
              "      <td>NaN</td>\n",
              "      <td>NaN</td>\n",
              "      <td>NaN</td>\n",
              "      <td>NaN</td>\n",
              "      <td>NaN</td>\n",
              "      <td>NaN</td>\n",
              "      <td>NaN</td>\n",
              "      <td>NaN</td>\n",
              "      <td>...</td>\n",
              "      <td>NaN</td>\n",
              "      <td>NaN</td>\n",
              "      <td>NaN</td>\n",
              "      <td>NaN</td>\n",
              "      <td>NaN</td>\n",
              "      <td>NaN</td>\n",
              "      <td>NaN</td>\n",
              "      <td>NaN</td>\n",
              "      <td>NaN</td>\n",
              "      <td>NaN</td>\n",
              "    </tr>\n",
              "    <tr>\n",
              "      <th>750</th>\n",
              "      <td>3.69</td>\n",
              "      <td>0.758171</td>\n",
              "      <td>0.758346</td>\n",
              "      <td>0.753771</td>\n",
              "      <td>0.746488</td>\n",
              "      <td>0.738168</td>\n",
              "      <td>0.730505</td>\n",
              "      <td>0.723920</td>\n",
              "      <td>0.717727</td>\n",
              "      <td>0.710529</td>\n",
              "      <td>...</td>\n",
              "      <td>0.336224</td>\n",
              "      <td>0.342957</td>\n",
              "      <td>0.351229</td>\n",
              "      <td>0.358600</td>\n",
              "      <td>0.363509</td>\n",
              "      <td>0.367755</td>\n",
              "      <td>0.372058</td>\n",
              "      <td>0.377203</td>\n",
              "      <td>0.383502</td>\n",
              "      <td>0.387389</td>\n",
              "    </tr>\n",
              "    <tr>\n",
              "      <th>730</th>\n",
              "      <td>NaN</td>\n",
              "      <td>1.246978</td>\n",
              "      <td>1.251745</td>\n",
              "      <td>1.253083</td>\n",
              "      <td>1.252798</td>\n",
              "      <td>1.252329</td>\n",
              "      <td>1.251785</td>\n",
              "      <td>1.250933</td>\n",
              "      <td>1.249047</td>\n",
              "      <td>1.245250</td>\n",
              "      <td>...</td>\n",
              "      <td>0.561925</td>\n",
              "      <td>0.568471</td>\n",
              "      <td>0.575743</td>\n",
              "      <td>0.583132</td>\n",
              "      <td>0.590763</td>\n",
              "      <td>0.598471</td>\n",
              "      <td>0.606042</td>\n",
              "      <td>0.613132</td>\n",
              "      <td>0.619196</td>\n",
              "      <td>0.623943</td>\n",
              "    </tr>\n",
              "    <tr>\n",
              "      <th>4774</th>\n",
              "      <td>NaN</td>\n",
              "      <td>NaN</td>\n",
              "      <td>NaN</td>\n",
              "      <td>NaN</td>\n",
              "      <td>NaN</td>\n",
              "      <td>NaN</td>\n",
              "      <td>NaN</td>\n",
              "      <td>NaN</td>\n",
              "      <td>NaN</td>\n",
              "      <td>NaN</td>\n",
              "      <td>...</td>\n",
              "      <td>NaN</td>\n",
              "      <td>NaN</td>\n",
              "      <td>NaN</td>\n",
              "      <td>NaN</td>\n",
              "      <td>NaN</td>\n",
              "      <td>NaN</td>\n",
              "      <td>NaN</td>\n",
              "      <td>NaN</td>\n",
              "      <td>NaN</td>\n",
              "      <td>NaN</td>\n",
              "    </tr>\n",
              "    <tr>\n",
              "      <th>1189</th>\n",
              "      <td>0.35</td>\n",
              "      <td>1.112024</td>\n",
              "      <td>1.115514</td>\n",
              "      <td>1.114036</td>\n",
              "      <td>1.109804</td>\n",
              "      <td>1.105305</td>\n",
              "      <td>1.102907</td>\n",
              "      <td>1.101895</td>\n",
              "      <td>1.100405</td>\n",
              "      <td>1.095867</td>\n",
              "      <td>...</td>\n",
              "      <td>0.617218</td>\n",
              "      <td>0.622655</td>\n",
              "      <td>0.629449</td>\n",
              "      <td>0.635971</td>\n",
              "      <td>0.641177</td>\n",
              "      <td>0.646152</td>\n",
              "      <td>0.651435</td>\n",
              "      <td>0.656837</td>\n",
              "      <td>0.662125</td>\n",
              "      <td>0.665705</td>\n",
              "    </tr>\n",
              "    <tr>\n",
              "      <th>1374</th>\n",
              "      <td>ND</td>\n",
              "      <td>0.993090</td>\n",
              "      <td>1.000883</td>\n",
              "      <td>1.003830</td>\n",
              "      <td>1.004923</td>\n",
              "      <td>1.005242</td>\n",
              "      <td>1.005268</td>\n",
              "      <td>1.004882</td>\n",
              "      <td>1.003494</td>\n",
              "      <td>0.999462</td>\n",
              "      <td>...</td>\n",
              "      <td>0.369686</td>\n",
              "      <td>0.374642</td>\n",
              "      <td>0.380373</td>\n",
              "      <td>0.385826</td>\n",
              "      <td>0.390412</td>\n",
              "      <td>0.394926</td>\n",
              "      <td>0.399624</td>\n",
              "      <td>0.404282</td>\n",
              "      <td>0.408837</td>\n",
              "      <td>0.411771</td>\n",
              "    </tr>\n",
              "  </tbody>\n",
              "</table>\n",
              "<p>10 rows × 247 columns</p>\n",
              "</div>\n",
              "      <button class=\"colab-df-convert\" onclick=\"convertToInteractive('df-4eb95c01-7167-4250-81cf-77835fe976e6')\"\n",
              "              title=\"Convert this dataframe to an interactive table.\"\n",
              "              style=\"display:none;\">\n",
              "        \n",
              "  <svg xmlns=\"http://www.w3.org/2000/svg\" height=\"24px\"viewBox=\"0 0 24 24\"\n",
              "       width=\"24px\">\n",
              "    <path d=\"M0 0h24v24H0V0z\" fill=\"none\"/>\n",
              "    <path d=\"M18.56 5.44l.94 2.06.94-2.06 2.06-.94-2.06-.94-.94-2.06-.94 2.06-2.06.94zm-11 1L8.5 8.5l.94-2.06 2.06-.94-2.06-.94L8.5 2.5l-.94 2.06-2.06.94zm10 10l.94 2.06.94-2.06 2.06-.94-2.06-.94-.94-2.06-.94 2.06-2.06.94z\"/><path d=\"M17.41 7.96l-1.37-1.37c-.4-.4-.92-.59-1.43-.59-.52 0-1.04.2-1.43.59L10.3 9.45l-7.72 7.72c-.78.78-.78 2.05 0 2.83L4 21.41c.39.39.9.59 1.41.59.51 0 1.02-.2 1.41-.59l7.78-7.78 2.81-2.81c.8-.78.8-2.07 0-2.86zM5.41 20L4 18.59l7.72-7.72 1.47 1.35L5.41 20z\"/>\n",
              "  </svg>\n",
              "      </button>\n",
              "      \n",
              "  <style>\n",
              "    .colab-df-container {\n",
              "      display:flex;\n",
              "      flex-wrap:wrap;\n",
              "      gap: 12px;\n",
              "    }\n",
              "\n",
              "    .colab-df-convert {\n",
              "      background-color: #E8F0FE;\n",
              "      border: none;\n",
              "      border-radius: 50%;\n",
              "      cursor: pointer;\n",
              "      display: none;\n",
              "      fill: #1967D2;\n",
              "      height: 32px;\n",
              "      padding: 0 0 0 0;\n",
              "      width: 32px;\n",
              "    }\n",
              "\n",
              "    .colab-df-convert:hover {\n",
              "      background-color: #E2EBFA;\n",
              "      box-shadow: 0px 1px 2px rgba(60, 64, 67, 0.3), 0px 1px 3px 1px rgba(60, 64, 67, 0.15);\n",
              "      fill: #174EA6;\n",
              "    }\n",
              "\n",
              "    [theme=dark] .colab-df-convert {\n",
              "      background-color: #3B4455;\n",
              "      fill: #D2E3FC;\n",
              "    }\n",
              "\n",
              "    [theme=dark] .colab-df-convert:hover {\n",
              "      background-color: #434B5C;\n",
              "      box-shadow: 0px 1px 3px 1px rgba(0, 0, 0, 0.15);\n",
              "      filter: drop-shadow(0px 1px 2px rgba(0, 0, 0, 0.3));\n",
              "      fill: #FFFFFF;\n",
              "    }\n",
              "  </style>\n",
              "\n",
              "      <script>\n",
              "        const buttonEl =\n",
              "          document.querySelector('#df-4eb95c01-7167-4250-81cf-77835fe976e6 button.colab-df-convert');\n",
              "        buttonEl.style.display =\n",
              "          google.colab.kernel.accessAllowed ? 'block' : 'none';\n",
              "\n",
              "        async function convertToInteractive(key) {\n",
              "          const element = document.querySelector('#df-4eb95c01-7167-4250-81cf-77835fe976e6');\n",
              "          const dataTable =\n",
              "            await google.colab.kernel.invokeFunction('convertToInteractive',\n",
              "                                                     [key], {});\n",
              "          if (!dataTable) return;\n",
              "\n",
              "          const docLinkHtml = 'Like what you see? Visit the ' +\n",
              "            '<a target=\"_blank\" href=https://colab.research.google.com/notebooks/data_table.ipynb>data table notebook</a>'\n",
              "            + ' to learn more about interactive tables.';\n",
              "          element.innerHTML = '';\n",
              "          dataTable['output_type'] = 'display_data';\n",
              "          await google.colab.output.renderOutput(dataTable, element);\n",
              "          const docLink = document.createElement('div');\n",
              "          docLink.innerHTML = docLinkHtml;\n",
              "          element.appendChild(docLink);\n",
              "        }\n",
              "      </script>\n",
              "    </div>\n",
              "  </div>\n",
              "  "
            ]
          },
          "metadata": {},
          "execution_count": 5
        }
      ]
    },
    {
      "cell_type": "code",
      "source": [
        "print(subsetAl.shape)"
      ],
      "metadata": {
        "colab": {
          "base_uri": "https://localhost:8080/"
        },
        "id": "ih79i9sESsTD",
        "outputId": "8e2c9b27-3b57-4b45-d87d-d1915d0b2460"
      },
      "execution_count": null,
      "outputs": [
        {
          "output_type": "stream",
          "name": "stdout",
          "text": [
            "(6178, 247)\n"
          ]
        }
      ]
    },
    {
      "cell_type": "code",
      "source": [
        "import numpy as np\n",
        "na_setAl = subsetAl.copy()\n",
        "na_setAl.replace('ND', np.nan, inplace = True)\n",
        "na_setAl.dropna(inplace = True)\n",
        "na_setAl.sample(10)"
      ],
      "metadata": {
        "id": "Sexs30NnPoHc",
        "colab": {
          "base_uri": "https://localhost:8080/",
          "height": 474
        },
        "outputId": "d9f63b3f-1b54-4824-80ef-7ecbeb88bba9"
      },
      "execution_count": null,
      "outputs": [
        {
          "output_type": "execute_result",
          "data": {
            "text/plain": [
              "     Aluminio (Al) intercambiable     408.5       417     425.5       434  \\\n",
              "2862                         0.23  0.816603  0.819711  0.818619  0.815947   \n",
              "32                           1.99  0.996732  0.997920  0.991787  0.980468   \n",
              "449                          1.19  1.082984  1.092550  1.097096  1.098842   \n",
              "1473                         1.93  1.154021  1.166212  1.173859  1.180039   \n",
              "588                          0.00  1.061521  1.068850  1.068822  1.064945   \n",
              "1270                         2.92  0.980893  0.983381  0.978338  0.970094   \n",
              "3210                         1.03  1.217568  1.223848  1.225376  1.225856   \n",
              "3019                         1.23  1.039735  1.047301  1.051119  1.053908   \n",
              "3060                         1.71  1.095411  1.106315  1.108383  1.106486   \n",
              "3784                         1.99  0.794896  0.798697  0.796729  0.791555   \n",
              "\n",
              "         442.5       451     459.5       468     476.5  ...    2414.5  \\\n",
              "2862  0.813706  0.812347  0.811298  0.809556  0.805758  ...  0.430010   \n",
              "32    0.971155  0.967299  0.967528  0.965959  0.958798  ...  0.598911   \n",
              "449   1.099482  1.101031  1.102524  1.102286  1.098305  ...  0.543699   \n",
              "1473  1.184607  1.187684  1.189274  1.188132  1.183669  ...  0.473437   \n",
              "588   1.060895  1.059824  1.060425  1.059640  1.054040  ...  0.485885   \n",
              "1270  0.962566  0.958491  0.956957  0.953897  0.946260  ...  0.593059   \n",
              "3210  1.228249  1.233702  1.240305  1.244841  1.244152  ...  0.760371   \n",
              "3019  1.056692  1.059047  1.060518  1.060022  1.056602  ...  0.453840   \n",
              "3060  1.107403  1.114866  1.125617  1.132394  1.129374  ...  0.715714   \n",
              "3784  0.786480  0.782860  0.779441  0.775207  0.767670  ...  0.367750   \n",
              "\n",
              "          2423    2431.5      2440    2448.5      2457    2465.5      2474  \\\n",
              "2862  0.434451  0.439159  0.442573  0.444612  0.446081  0.447725  0.449597   \n",
              "32    0.604856  0.612198  0.618747  0.623069  0.627013  0.631815  0.637745   \n",
              "449   0.551778  0.560388  0.567667  0.573757  0.580115  0.587644  0.595732   \n",
              "1473  0.478557  0.484306  0.490281  0.496090  0.502208  0.508162  0.513458   \n",
              "588   0.492457  0.500758  0.508948  0.515446  0.521499  0.527949  0.534795   \n",
              "1270  0.600342  0.608553  0.616414  0.622960  0.629551  0.636704  0.644176   \n",
              "3210  0.770228  0.782951  0.795449  0.804987  0.813994  0.823751  0.834337   \n",
              "3019  0.459592  0.465937  0.472388  0.478781  0.485174  0.491586  0.497342   \n",
              "3060  0.724705  0.737122  0.748488  0.755355  0.761088  0.768158  0.776919   \n",
              "3784  0.371652  0.376276  0.380366  0.383320  0.386012  0.388898  0.392082   \n",
              "\n",
              "        2482.5      2491  \n",
              "2862  0.451942  0.453132  \n",
              "32    0.644019  0.647534  \n",
              "449   0.602866  0.607657  \n",
              "1473  0.518303  0.521402  \n",
              "588   0.541752  0.546503  \n",
              "1270  0.651848  0.657153  \n",
              "3210  0.846142  0.853943  \n",
              "3019  0.502834  0.506862  \n",
              "3060  0.787478  0.793640  \n",
              "3784  0.395524  0.397701  \n",
              "\n",
              "[10 rows x 247 columns]"
            ],
            "text/html": [
              "\n",
              "  <div id=\"df-bb0feaf0-57fa-43ef-b316-6e22b5cb6db5\">\n",
              "    <div class=\"colab-df-container\">\n",
              "      <div>\n",
              "<style scoped>\n",
              "    .dataframe tbody tr th:only-of-type {\n",
              "        vertical-align: middle;\n",
              "    }\n",
              "\n",
              "    .dataframe tbody tr th {\n",
              "        vertical-align: top;\n",
              "    }\n",
              "\n",
              "    .dataframe thead th {\n",
              "        text-align: right;\n",
              "    }\n",
              "</style>\n",
              "<table border=\"1\" class=\"dataframe\">\n",
              "  <thead>\n",
              "    <tr style=\"text-align: right;\">\n",
              "      <th></th>\n",
              "      <th>Aluminio (Al) intercambiable</th>\n",
              "      <th>408.5</th>\n",
              "      <th>417</th>\n",
              "      <th>425.5</th>\n",
              "      <th>434</th>\n",
              "      <th>442.5</th>\n",
              "      <th>451</th>\n",
              "      <th>459.5</th>\n",
              "      <th>468</th>\n",
              "      <th>476.5</th>\n",
              "      <th>...</th>\n",
              "      <th>2414.5</th>\n",
              "      <th>2423</th>\n",
              "      <th>2431.5</th>\n",
              "      <th>2440</th>\n",
              "      <th>2448.5</th>\n",
              "      <th>2457</th>\n",
              "      <th>2465.5</th>\n",
              "      <th>2474</th>\n",
              "      <th>2482.5</th>\n",
              "      <th>2491</th>\n",
              "    </tr>\n",
              "  </thead>\n",
              "  <tbody>\n",
              "    <tr>\n",
              "      <th>2862</th>\n",
              "      <td>0.23</td>\n",
              "      <td>0.816603</td>\n",
              "      <td>0.819711</td>\n",
              "      <td>0.818619</td>\n",
              "      <td>0.815947</td>\n",
              "      <td>0.813706</td>\n",
              "      <td>0.812347</td>\n",
              "      <td>0.811298</td>\n",
              "      <td>0.809556</td>\n",
              "      <td>0.805758</td>\n",
              "      <td>...</td>\n",
              "      <td>0.430010</td>\n",
              "      <td>0.434451</td>\n",
              "      <td>0.439159</td>\n",
              "      <td>0.442573</td>\n",
              "      <td>0.444612</td>\n",
              "      <td>0.446081</td>\n",
              "      <td>0.447725</td>\n",
              "      <td>0.449597</td>\n",
              "      <td>0.451942</td>\n",
              "      <td>0.453132</td>\n",
              "    </tr>\n",
              "    <tr>\n",
              "      <th>32</th>\n",
              "      <td>1.99</td>\n",
              "      <td>0.996732</td>\n",
              "      <td>0.997920</td>\n",
              "      <td>0.991787</td>\n",
              "      <td>0.980468</td>\n",
              "      <td>0.971155</td>\n",
              "      <td>0.967299</td>\n",
              "      <td>0.967528</td>\n",
              "      <td>0.965959</td>\n",
              "      <td>0.958798</td>\n",
              "      <td>...</td>\n",
              "      <td>0.598911</td>\n",
              "      <td>0.604856</td>\n",
              "      <td>0.612198</td>\n",
              "      <td>0.618747</td>\n",
              "      <td>0.623069</td>\n",
              "      <td>0.627013</td>\n",
              "      <td>0.631815</td>\n",
              "      <td>0.637745</td>\n",
              "      <td>0.644019</td>\n",
              "      <td>0.647534</td>\n",
              "    </tr>\n",
              "    <tr>\n",
              "      <th>449</th>\n",
              "      <td>1.19</td>\n",
              "      <td>1.082984</td>\n",
              "      <td>1.092550</td>\n",
              "      <td>1.097096</td>\n",
              "      <td>1.098842</td>\n",
              "      <td>1.099482</td>\n",
              "      <td>1.101031</td>\n",
              "      <td>1.102524</td>\n",
              "      <td>1.102286</td>\n",
              "      <td>1.098305</td>\n",
              "      <td>...</td>\n",
              "      <td>0.543699</td>\n",
              "      <td>0.551778</td>\n",
              "      <td>0.560388</td>\n",
              "      <td>0.567667</td>\n",
              "      <td>0.573757</td>\n",
              "      <td>0.580115</td>\n",
              "      <td>0.587644</td>\n",
              "      <td>0.595732</td>\n",
              "      <td>0.602866</td>\n",
              "      <td>0.607657</td>\n",
              "    </tr>\n",
              "    <tr>\n",
              "      <th>1473</th>\n",
              "      <td>1.93</td>\n",
              "      <td>1.154021</td>\n",
              "      <td>1.166212</td>\n",
              "      <td>1.173859</td>\n",
              "      <td>1.180039</td>\n",
              "      <td>1.184607</td>\n",
              "      <td>1.187684</td>\n",
              "      <td>1.189274</td>\n",
              "      <td>1.188132</td>\n",
              "      <td>1.183669</td>\n",
              "      <td>...</td>\n",
              "      <td>0.473437</td>\n",
              "      <td>0.478557</td>\n",
              "      <td>0.484306</td>\n",
              "      <td>0.490281</td>\n",
              "      <td>0.496090</td>\n",
              "      <td>0.502208</td>\n",
              "      <td>0.508162</td>\n",
              "      <td>0.513458</td>\n",
              "      <td>0.518303</td>\n",
              "      <td>0.521402</td>\n",
              "    </tr>\n",
              "    <tr>\n",
              "      <th>588</th>\n",
              "      <td>0.00</td>\n",
              "      <td>1.061521</td>\n",
              "      <td>1.068850</td>\n",
              "      <td>1.068822</td>\n",
              "      <td>1.064945</td>\n",
              "      <td>1.060895</td>\n",
              "      <td>1.059824</td>\n",
              "      <td>1.060425</td>\n",
              "      <td>1.059640</td>\n",
              "      <td>1.054040</td>\n",
              "      <td>...</td>\n",
              "      <td>0.485885</td>\n",
              "      <td>0.492457</td>\n",
              "      <td>0.500758</td>\n",
              "      <td>0.508948</td>\n",
              "      <td>0.515446</td>\n",
              "      <td>0.521499</td>\n",
              "      <td>0.527949</td>\n",
              "      <td>0.534795</td>\n",
              "      <td>0.541752</td>\n",
              "      <td>0.546503</td>\n",
              "    </tr>\n",
              "    <tr>\n",
              "      <th>1270</th>\n",
              "      <td>2.92</td>\n",
              "      <td>0.980893</td>\n",
              "      <td>0.983381</td>\n",
              "      <td>0.978338</td>\n",
              "      <td>0.970094</td>\n",
              "      <td>0.962566</td>\n",
              "      <td>0.958491</td>\n",
              "      <td>0.956957</td>\n",
              "      <td>0.953897</td>\n",
              "      <td>0.946260</td>\n",
              "      <td>...</td>\n",
              "      <td>0.593059</td>\n",
              "      <td>0.600342</td>\n",
              "      <td>0.608553</td>\n",
              "      <td>0.616414</td>\n",
              "      <td>0.622960</td>\n",
              "      <td>0.629551</td>\n",
              "      <td>0.636704</td>\n",
              "      <td>0.644176</td>\n",
              "      <td>0.651848</td>\n",
              "      <td>0.657153</td>\n",
              "    </tr>\n",
              "    <tr>\n",
              "      <th>3210</th>\n",
              "      <td>1.03</td>\n",
              "      <td>1.217568</td>\n",
              "      <td>1.223848</td>\n",
              "      <td>1.225376</td>\n",
              "      <td>1.225856</td>\n",
              "      <td>1.228249</td>\n",
              "      <td>1.233702</td>\n",
              "      <td>1.240305</td>\n",
              "      <td>1.244841</td>\n",
              "      <td>1.244152</td>\n",
              "      <td>...</td>\n",
              "      <td>0.760371</td>\n",
              "      <td>0.770228</td>\n",
              "      <td>0.782951</td>\n",
              "      <td>0.795449</td>\n",
              "      <td>0.804987</td>\n",
              "      <td>0.813994</td>\n",
              "      <td>0.823751</td>\n",
              "      <td>0.834337</td>\n",
              "      <td>0.846142</td>\n",
              "      <td>0.853943</td>\n",
              "    </tr>\n",
              "    <tr>\n",
              "      <th>3019</th>\n",
              "      <td>1.23</td>\n",
              "      <td>1.039735</td>\n",
              "      <td>1.047301</td>\n",
              "      <td>1.051119</td>\n",
              "      <td>1.053908</td>\n",
              "      <td>1.056692</td>\n",
              "      <td>1.059047</td>\n",
              "      <td>1.060518</td>\n",
              "      <td>1.060022</td>\n",
              "      <td>1.056602</td>\n",
              "      <td>...</td>\n",
              "      <td>0.453840</td>\n",
              "      <td>0.459592</td>\n",
              "      <td>0.465937</td>\n",
              "      <td>0.472388</td>\n",
              "      <td>0.478781</td>\n",
              "      <td>0.485174</td>\n",
              "      <td>0.491586</td>\n",
              "      <td>0.497342</td>\n",
              "      <td>0.502834</td>\n",
              "      <td>0.506862</td>\n",
              "    </tr>\n",
              "    <tr>\n",
              "      <th>3060</th>\n",
              "      <td>1.71</td>\n",
              "      <td>1.095411</td>\n",
              "      <td>1.106315</td>\n",
              "      <td>1.108383</td>\n",
              "      <td>1.106486</td>\n",
              "      <td>1.107403</td>\n",
              "      <td>1.114866</td>\n",
              "      <td>1.125617</td>\n",
              "      <td>1.132394</td>\n",
              "      <td>1.129374</td>\n",
              "      <td>...</td>\n",
              "      <td>0.715714</td>\n",
              "      <td>0.724705</td>\n",
              "      <td>0.737122</td>\n",
              "      <td>0.748488</td>\n",
              "      <td>0.755355</td>\n",
              "      <td>0.761088</td>\n",
              "      <td>0.768158</td>\n",
              "      <td>0.776919</td>\n",
              "      <td>0.787478</td>\n",
              "      <td>0.793640</td>\n",
              "    </tr>\n",
              "    <tr>\n",
              "      <th>3784</th>\n",
              "      <td>1.99</td>\n",
              "      <td>0.794896</td>\n",
              "      <td>0.798697</td>\n",
              "      <td>0.796729</td>\n",
              "      <td>0.791555</td>\n",
              "      <td>0.786480</td>\n",
              "      <td>0.782860</td>\n",
              "      <td>0.779441</td>\n",
              "      <td>0.775207</td>\n",
              "      <td>0.767670</td>\n",
              "      <td>...</td>\n",
              "      <td>0.367750</td>\n",
              "      <td>0.371652</td>\n",
              "      <td>0.376276</td>\n",
              "      <td>0.380366</td>\n",
              "      <td>0.383320</td>\n",
              "      <td>0.386012</td>\n",
              "      <td>0.388898</td>\n",
              "      <td>0.392082</td>\n",
              "      <td>0.395524</td>\n",
              "      <td>0.397701</td>\n",
              "    </tr>\n",
              "  </tbody>\n",
              "</table>\n",
              "<p>10 rows × 247 columns</p>\n",
              "</div>\n",
              "      <button class=\"colab-df-convert\" onclick=\"convertToInteractive('df-bb0feaf0-57fa-43ef-b316-6e22b5cb6db5')\"\n",
              "              title=\"Convert this dataframe to an interactive table.\"\n",
              "              style=\"display:none;\">\n",
              "        \n",
              "  <svg xmlns=\"http://www.w3.org/2000/svg\" height=\"24px\"viewBox=\"0 0 24 24\"\n",
              "       width=\"24px\">\n",
              "    <path d=\"M0 0h24v24H0V0z\" fill=\"none\"/>\n",
              "    <path d=\"M18.56 5.44l.94 2.06.94-2.06 2.06-.94-2.06-.94-.94-2.06-.94 2.06-2.06.94zm-11 1L8.5 8.5l.94-2.06 2.06-.94-2.06-.94L8.5 2.5l-.94 2.06-2.06.94zm10 10l.94 2.06.94-2.06 2.06-.94-2.06-.94-.94-2.06-.94 2.06-2.06.94z\"/><path d=\"M17.41 7.96l-1.37-1.37c-.4-.4-.92-.59-1.43-.59-.52 0-1.04.2-1.43.59L10.3 9.45l-7.72 7.72c-.78.78-.78 2.05 0 2.83L4 21.41c.39.39.9.59 1.41.59.51 0 1.02-.2 1.41-.59l7.78-7.78 2.81-2.81c.8-.78.8-2.07 0-2.86zM5.41 20L4 18.59l7.72-7.72 1.47 1.35L5.41 20z\"/>\n",
              "  </svg>\n",
              "      </button>\n",
              "      \n",
              "  <style>\n",
              "    .colab-df-container {\n",
              "      display:flex;\n",
              "      flex-wrap:wrap;\n",
              "      gap: 12px;\n",
              "    }\n",
              "\n",
              "    .colab-df-convert {\n",
              "      background-color: #E8F0FE;\n",
              "      border: none;\n",
              "      border-radius: 50%;\n",
              "      cursor: pointer;\n",
              "      display: none;\n",
              "      fill: #1967D2;\n",
              "      height: 32px;\n",
              "      padding: 0 0 0 0;\n",
              "      width: 32px;\n",
              "    }\n",
              "\n",
              "    .colab-df-convert:hover {\n",
              "      background-color: #E2EBFA;\n",
              "      box-shadow: 0px 1px 2px rgba(60, 64, 67, 0.3), 0px 1px 3px 1px rgba(60, 64, 67, 0.15);\n",
              "      fill: #174EA6;\n",
              "    }\n",
              "\n",
              "    [theme=dark] .colab-df-convert {\n",
              "      background-color: #3B4455;\n",
              "      fill: #D2E3FC;\n",
              "    }\n",
              "\n",
              "    [theme=dark] .colab-df-convert:hover {\n",
              "      background-color: #434B5C;\n",
              "      box-shadow: 0px 1px 3px 1px rgba(0, 0, 0, 0.15);\n",
              "      filter: drop-shadow(0px 1px 2px rgba(0, 0, 0, 0.3));\n",
              "      fill: #FFFFFF;\n",
              "    }\n",
              "  </style>\n",
              "\n",
              "      <script>\n",
              "        const buttonEl =\n",
              "          document.querySelector('#df-bb0feaf0-57fa-43ef-b316-6e22b5cb6db5 button.colab-df-convert');\n",
              "        buttonEl.style.display =\n",
              "          google.colab.kernel.accessAllowed ? 'block' : 'none';\n",
              "\n",
              "        async function convertToInteractive(key) {\n",
              "          const element = document.querySelector('#df-bb0feaf0-57fa-43ef-b316-6e22b5cb6db5');\n",
              "          const dataTable =\n",
              "            await google.colab.kernel.invokeFunction('convertToInteractive',\n",
              "                                                     [key], {});\n",
              "          if (!dataTable) return;\n",
              "\n",
              "          const docLinkHtml = 'Like what you see? Visit the ' +\n",
              "            '<a target=\"_blank\" href=https://colab.research.google.com/notebooks/data_table.ipynb>data table notebook</a>'\n",
              "            + ' to learn more about interactive tables.';\n",
              "          element.innerHTML = '';\n",
              "          dataTable['output_type'] = 'display_data';\n",
              "          await google.colab.output.renderOutput(dataTable, element);\n",
              "          const docLink = document.createElement('div');\n",
              "          docLink.innerHTML = docLinkHtml;\n",
              "          element.appendChild(docLink);\n",
              "        }\n",
              "      </script>\n",
              "    </div>\n",
              "  </div>\n",
              "  "
            ]
          },
          "metadata": {},
          "execution_count": 7
        }
      ]
    },
    {
      "cell_type": "code",
      "source": [
        "print(subsetAl.shape)\n",
        "print(na_setAl.shape)"
      ],
      "metadata": {
        "id": "31CbDyuySDXp",
        "colab": {
          "base_uri": "https://localhost:8080/"
        },
        "outputId": "5f13f159-1f7d-4275-cc4f-d91b01012f5e"
      },
      "execution_count": null,
      "outputs": [
        {
          "output_type": "stream",
          "name": "stdout",
          "text": [
            "(6178, 247)\n",
            "(1599, 247)\n"
          ]
        }
      ]
    },
    {
      "cell_type": "code",
      "source": [
        "from sklearn.impute import SimpleImputer\n",
        "si_Al = subsetAl.copy()\n",
        "imputer= SimpleImputer(strategy='mean')\n",
        "si_Al.iloc[:, 1:] = imputer.fit_transform(si_Al.iloc[:, 1:])\n",
        "si_Al.sample(10)"
      ],
      "metadata": {
        "id": "cjGpX00uOex7",
        "colab": {
          "base_uri": "https://localhost:8080/",
          "height": 474
        },
        "outputId": "4e1b1e85-7fcd-4bbe-bc7c-2733f9c91a1f"
      },
      "execution_count": null,
      "outputs": [
        {
          "output_type": "execute_result",
          "data": {
            "text/plain": [
              "     Aluminio (Al) intercambiable     408.5       417     425.5       434  \\\n",
              "6061                          NaN  1.017225  1.023955  1.025025  1.023356   \n",
              "1091                           ND  0.998975  1.005394  1.006702  1.004845   \n",
              "467                          1.19  1.194405  1.203759  1.208471  1.211524   \n",
              "3162                           ND  1.046064  1.056590  1.062941  1.067974   \n",
              "3555                           ND  1.078968  1.089159  1.093170  1.094369   \n",
              "4304                          NaN  1.017225  1.023955  1.025025  1.023356   \n",
              "4745                          NaN  1.017225  1.023955  1.025025  1.023356   \n",
              "4805                          NaN  1.017225  1.023955  1.025025  1.023356   \n",
              "4791                          NaN  1.017225  1.023955  1.025025  1.023356   \n",
              "6016                          NaN  1.017225  1.023955  1.025025  1.023356   \n",
              "\n",
              "         442.5       451     459.5       468     476.5  ...    2414.5  \\\n",
              "6061  1.021516  1.020933  1.021048  1.019757  1.014838  ...  0.489475   \n",
              "1091  1.002313  1.000365  0.999091  0.996778  0.991951  ...  0.373169   \n",
              "467   1.213960  1.216072  1.216941  1.215481  1.210875  ...  0.493412   \n",
              "3162  1.072322  1.075463  1.077132  1.077065  1.074346  ...  0.533646   \n",
              "3555  1.095488  1.097780  1.100583  1.101404  1.097606  ...  0.561879   \n",
              "4304  1.021516  1.020933  1.021048  1.019757  1.014838  ...  0.489475   \n",
              "4745  1.021516  1.020933  1.021048  1.019757  1.014838  ...  0.489475   \n",
              "4805  1.021516  1.020933  1.021048  1.019757  1.014838  ...  0.489475   \n",
              "4791  1.021516  1.020933  1.021048  1.019757  1.014838  ...  0.489475   \n",
              "6016  1.021516  1.020933  1.021048  1.019757  1.014838  ...  0.489475   \n",
              "\n",
              "          2423    2431.5      2440    2448.5      2457    2465.5      2474  \\\n",
              "6061  0.495494  0.502497  0.509004  0.514315  0.519431  0.524900  0.530589   \n",
              "1091  0.377887  0.383030  0.387277  0.390405  0.392926  0.395283  0.397516   \n",
              "467   0.499736  0.506917  0.514137  0.521310  0.528431  0.535412  0.541547   \n",
              "3162  0.541253  0.549346  0.557042  0.564377  0.571849  0.579597  0.586940   \n",
              "3555  0.568623  0.576052  0.583287  0.589781  0.596431  0.603503  0.610664   \n",
              "4304  0.495494  0.502497  0.509004  0.514315  0.519431  0.524900  0.530589   \n",
              "4745  0.495494  0.502497  0.509004  0.514315  0.519431  0.524900  0.530589   \n",
              "4805  0.495494  0.502497  0.509004  0.514315  0.519431  0.524900  0.530589   \n",
              "4791  0.495494  0.502497  0.509004  0.514315  0.519431  0.524900  0.530589   \n",
              "6016  0.495494  0.502497  0.509004  0.514315  0.519431  0.524900  0.530589   \n",
              "\n",
              "        2482.5      2491  \n",
              "6061  0.536402  0.540383  \n",
              "1091  0.399784  0.400863  \n",
              "467   0.547150  0.551106  \n",
              "3162  0.593697  0.598596  \n",
              "3555  0.617593  0.622803  \n",
              "4304  0.536402  0.540383  \n",
              "4745  0.536402  0.540383  \n",
              "4805  0.536402  0.540383  \n",
              "4791  0.536402  0.540383  \n",
              "6016  0.536402  0.540383  \n",
              "\n",
              "[10 rows x 247 columns]"
            ],
            "text/html": [
              "\n",
              "  <div id=\"df-925cb158-7b42-4ff9-9b6b-7907a167bd47\">\n",
              "    <div class=\"colab-df-container\">\n",
              "      <div>\n",
              "<style scoped>\n",
              "    .dataframe tbody tr th:only-of-type {\n",
              "        vertical-align: middle;\n",
              "    }\n",
              "\n",
              "    .dataframe tbody tr th {\n",
              "        vertical-align: top;\n",
              "    }\n",
              "\n",
              "    .dataframe thead th {\n",
              "        text-align: right;\n",
              "    }\n",
              "</style>\n",
              "<table border=\"1\" class=\"dataframe\">\n",
              "  <thead>\n",
              "    <tr style=\"text-align: right;\">\n",
              "      <th></th>\n",
              "      <th>Aluminio (Al) intercambiable</th>\n",
              "      <th>408.5</th>\n",
              "      <th>417</th>\n",
              "      <th>425.5</th>\n",
              "      <th>434</th>\n",
              "      <th>442.5</th>\n",
              "      <th>451</th>\n",
              "      <th>459.5</th>\n",
              "      <th>468</th>\n",
              "      <th>476.5</th>\n",
              "      <th>...</th>\n",
              "      <th>2414.5</th>\n",
              "      <th>2423</th>\n",
              "      <th>2431.5</th>\n",
              "      <th>2440</th>\n",
              "      <th>2448.5</th>\n",
              "      <th>2457</th>\n",
              "      <th>2465.5</th>\n",
              "      <th>2474</th>\n",
              "      <th>2482.5</th>\n",
              "      <th>2491</th>\n",
              "    </tr>\n",
              "  </thead>\n",
              "  <tbody>\n",
              "    <tr>\n",
              "      <th>6061</th>\n",
              "      <td>NaN</td>\n",
              "      <td>1.017225</td>\n",
              "      <td>1.023955</td>\n",
              "      <td>1.025025</td>\n",
              "      <td>1.023356</td>\n",
              "      <td>1.021516</td>\n",
              "      <td>1.020933</td>\n",
              "      <td>1.021048</td>\n",
              "      <td>1.019757</td>\n",
              "      <td>1.014838</td>\n",
              "      <td>...</td>\n",
              "      <td>0.489475</td>\n",
              "      <td>0.495494</td>\n",
              "      <td>0.502497</td>\n",
              "      <td>0.509004</td>\n",
              "      <td>0.514315</td>\n",
              "      <td>0.519431</td>\n",
              "      <td>0.524900</td>\n",
              "      <td>0.530589</td>\n",
              "      <td>0.536402</td>\n",
              "      <td>0.540383</td>\n",
              "    </tr>\n",
              "    <tr>\n",
              "      <th>1091</th>\n",
              "      <td>ND</td>\n",
              "      <td>0.998975</td>\n",
              "      <td>1.005394</td>\n",
              "      <td>1.006702</td>\n",
              "      <td>1.004845</td>\n",
              "      <td>1.002313</td>\n",
              "      <td>1.000365</td>\n",
              "      <td>0.999091</td>\n",
              "      <td>0.996778</td>\n",
              "      <td>0.991951</td>\n",
              "      <td>...</td>\n",
              "      <td>0.373169</td>\n",
              "      <td>0.377887</td>\n",
              "      <td>0.383030</td>\n",
              "      <td>0.387277</td>\n",
              "      <td>0.390405</td>\n",
              "      <td>0.392926</td>\n",
              "      <td>0.395283</td>\n",
              "      <td>0.397516</td>\n",
              "      <td>0.399784</td>\n",
              "      <td>0.400863</td>\n",
              "    </tr>\n",
              "    <tr>\n",
              "      <th>467</th>\n",
              "      <td>1.19</td>\n",
              "      <td>1.194405</td>\n",
              "      <td>1.203759</td>\n",
              "      <td>1.208471</td>\n",
              "      <td>1.211524</td>\n",
              "      <td>1.213960</td>\n",
              "      <td>1.216072</td>\n",
              "      <td>1.216941</td>\n",
              "      <td>1.215481</td>\n",
              "      <td>1.210875</td>\n",
              "      <td>...</td>\n",
              "      <td>0.493412</td>\n",
              "      <td>0.499736</td>\n",
              "      <td>0.506917</td>\n",
              "      <td>0.514137</td>\n",
              "      <td>0.521310</td>\n",
              "      <td>0.528431</td>\n",
              "      <td>0.535412</td>\n",
              "      <td>0.541547</td>\n",
              "      <td>0.547150</td>\n",
              "      <td>0.551106</td>\n",
              "    </tr>\n",
              "    <tr>\n",
              "      <th>3162</th>\n",
              "      <td>ND</td>\n",
              "      <td>1.046064</td>\n",
              "      <td>1.056590</td>\n",
              "      <td>1.062941</td>\n",
              "      <td>1.067974</td>\n",
              "      <td>1.072322</td>\n",
              "      <td>1.075463</td>\n",
              "      <td>1.077132</td>\n",
              "      <td>1.077065</td>\n",
              "      <td>1.074346</td>\n",
              "      <td>...</td>\n",
              "      <td>0.533646</td>\n",
              "      <td>0.541253</td>\n",
              "      <td>0.549346</td>\n",
              "      <td>0.557042</td>\n",
              "      <td>0.564377</td>\n",
              "      <td>0.571849</td>\n",
              "      <td>0.579597</td>\n",
              "      <td>0.586940</td>\n",
              "      <td>0.593697</td>\n",
              "      <td>0.598596</td>\n",
              "    </tr>\n",
              "    <tr>\n",
              "      <th>3555</th>\n",
              "      <td>ND</td>\n",
              "      <td>1.078968</td>\n",
              "      <td>1.089159</td>\n",
              "      <td>1.093170</td>\n",
              "      <td>1.094369</td>\n",
              "      <td>1.095488</td>\n",
              "      <td>1.097780</td>\n",
              "      <td>1.100583</td>\n",
              "      <td>1.101404</td>\n",
              "      <td>1.097606</td>\n",
              "      <td>...</td>\n",
              "      <td>0.561879</td>\n",
              "      <td>0.568623</td>\n",
              "      <td>0.576052</td>\n",
              "      <td>0.583287</td>\n",
              "      <td>0.589781</td>\n",
              "      <td>0.596431</td>\n",
              "      <td>0.603503</td>\n",
              "      <td>0.610664</td>\n",
              "      <td>0.617593</td>\n",
              "      <td>0.622803</td>\n",
              "    </tr>\n",
              "    <tr>\n",
              "      <th>4304</th>\n",
              "      <td>NaN</td>\n",
              "      <td>1.017225</td>\n",
              "      <td>1.023955</td>\n",
              "      <td>1.025025</td>\n",
              "      <td>1.023356</td>\n",
              "      <td>1.021516</td>\n",
              "      <td>1.020933</td>\n",
              "      <td>1.021048</td>\n",
              "      <td>1.019757</td>\n",
              "      <td>1.014838</td>\n",
              "      <td>...</td>\n",
              "      <td>0.489475</td>\n",
              "      <td>0.495494</td>\n",
              "      <td>0.502497</td>\n",
              "      <td>0.509004</td>\n",
              "      <td>0.514315</td>\n",
              "      <td>0.519431</td>\n",
              "      <td>0.524900</td>\n",
              "      <td>0.530589</td>\n",
              "      <td>0.536402</td>\n",
              "      <td>0.540383</td>\n",
              "    </tr>\n",
              "    <tr>\n",
              "      <th>4745</th>\n",
              "      <td>NaN</td>\n",
              "      <td>1.017225</td>\n",
              "      <td>1.023955</td>\n",
              "      <td>1.025025</td>\n",
              "      <td>1.023356</td>\n",
              "      <td>1.021516</td>\n",
              "      <td>1.020933</td>\n",
              "      <td>1.021048</td>\n",
              "      <td>1.019757</td>\n",
              "      <td>1.014838</td>\n",
              "      <td>...</td>\n",
              "      <td>0.489475</td>\n",
              "      <td>0.495494</td>\n",
              "      <td>0.502497</td>\n",
              "      <td>0.509004</td>\n",
              "      <td>0.514315</td>\n",
              "      <td>0.519431</td>\n",
              "      <td>0.524900</td>\n",
              "      <td>0.530589</td>\n",
              "      <td>0.536402</td>\n",
              "      <td>0.540383</td>\n",
              "    </tr>\n",
              "    <tr>\n",
              "      <th>4805</th>\n",
              "      <td>NaN</td>\n",
              "      <td>1.017225</td>\n",
              "      <td>1.023955</td>\n",
              "      <td>1.025025</td>\n",
              "      <td>1.023356</td>\n",
              "      <td>1.021516</td>\n",
              "      <td>1.020933</td>\n",
              "      <td>1.021048</td>\n",
              "      <td>1.019757</td>\n",
              "      <td>1.014838</td>\n",
              "      <td>...</td>\n",
              "      <td>0.489475</td>\n",
              "      <td>0.495494</td>\n",
              "      <td>0.502497</td>\n",
              "      <td>0.509004</td>\n",
              "      <td>0.514315</td>\n",
              "      <td>0.519431</td>\n",
              "      <td>0.524900</td>\n",
              "      <td>0.530589</td>\n",
              "      <td>0.536402</td>\n",
              "      <td>0.540383</td>\n",
              "    </tr>\n",
              "    <tr>\n",
              "      <th>4791</th>\n",
              "      <td>NaN</td>\n",
              "      <td>1.017225</td>\n",
              "      <td>1.023955</td>\n",
              "      <td>1.025025</td>\n",
              "      <td>1.023356</td>\n",
              "      <td>1.021516</td>\n",
              "      <td>1.020933</td>\n",
              "      <td>1.021048</td>\n",
              "      <td>1.019757</td>\n",
              "      <td>1.014838</td>\n",
              "      <td>...</td>\n",
              "      <td>0.489475</td>\n",
              "      <td>0.495494</td>\n",
              "      <td>0.502497</td>\n",
              "      <td>0.509004</td>\n",
              "      <td>0.514315</td>\n",
              "      <td>0.519431</td>\n",
              "      <td>0.524900</td>\n",
              "      <td>0.530589</td>\n",
              "      <td>0.536402</td>\n",
              "      <td>0.540383</td>\n",
              "    </tr>\n",
              "    <tr>\n",
              "      <th>6016</th>\n",
              "      <td>NaN</td>\n",
              "      <td>1.017225</td>\n",
              "      <td>1.023955</td>\n",
              "      <td>1.025025</td>\n",
              "      <td>1.023356</td>\n",
              "      <td>1.021516</td>\n",
              "      <td>1.020933</td>\n",
              "      <td>1.021048</td>\n",
              "      <td>1.019757</td>\n",
              "      <td>1.014838</td>\n",
              "      <td>...</td>\n",
              "      <td>0.489475</td>\n",
              "      <td>0.495494</td>\n",
              "      <td>0.502497</td>\n",
              "      <td>0.509004</td>\n",
              "      <td>0.514315</td>\n",
              "      <td>0.519431</td>\n",
              "      <td>0.524900</td>\n",
              "      <td>0.530589</td>\n",
              "      <td>0.536402</td>\n",
              "      <td>0.540383</td>\n",
              "    </tr>\n",
              "  </tbody>\n",
              "</table>\n",
              "<p>10 rows × 247 columns</p>\n",
              "</div>\n",
              "      <button class=\"colab-df-convert\" onclick=\"convertToInteractive('df-925cb158-7b42-4ff9-9b6b-7907a167bd47')\"\n",
              "              title=\"Convert this dataframe to an interactive table.\"\n",
              "              style=\"display:none;\">\n",
              "        \n",
              "  <svg xmlns=\"http://www.w3.org/2000/svg\" height=\"24px\"viewBox=\"0 0 24 24\"\n",
              "       width=\"24px\">\n",
              "    <path d=\"M0 0h24v24H0V0z\" fill=\"none\"/>\n",
              "    <path d=\"M18.56 5.44l.94 2.06.94-2.06 2.06-.94-2.06-.94-.94-2.06-.94 2.06-2.06.94zm-11 1L8.5 8.5l.94-2.06 2.06-.94-2.06-.94L8.5 2.5l-.94 2.06-2.06.94zm10 10l.94 2.06.94-2.06 2.06-.94-2.06-.94-.94-2.06-.94 2.06-2.06.94z\"/><path d=\"M17.41 7.96l-1.37-1.37c-.4-.4-.92-.59-1.43-.59-.52 0-1.04.2-1.43.59L10.3 9.45l-7.72 7.72c-.78.78-.78 2.05 0 2.83L4 21.41c.39.39.9.59 1.41.59.51 0 1.02-.2 1.41-.59l7.78-7.78 2.81-2.81c.8-.78.8-2.07 0-2.86zM5.41 20L4 18.59l7.72-7.72 1.47 1.35L5.41 20z\"/>\n",
              "  </svg>\n",
              "      </button>\n",
              "      \n",
              "  <style>\n",
              "    .colab-df-container {\n",
              "      display:flex;\n",
              "      flex-wrap:wrap;\n",
              "      gap: 12px;\n",
              "    }\n",
              "\n",
              "    .colab-df-convert {\n",
              "      background-color: #E8F0FE;\n",
              "      border: none;\n",
              "      border-radius: 50%;\n",
              "      cursor: pointer;\n",
              "      display: none;\n",
              "      fill: #1967D2;\n",
              "      height: 32px;\n",
              "      padding: 0 0 0 0;\n",
              "      width: 32px;\n",
              "    }\n",
              "\n",
              "    .colab-df-convert:hover {\n",
              "      background-color: #E2EBFA;\n",
              "      box-shadow: 0px 1px 2px rgba(60, 64, 67, 0.3), 0px 1px 3px 1px rgba(60, 64, 67, 0.15);\n",
              "      fill: #174EA6;\n",
              "    }\n",
              "\n",
              "    [theme=dark] .colab-df-convert {\n",
              "      background-color: #3B4455;\n",
              "      fill: #D2E3FC;\n",
              "    }\n",
              "\n",
              "    [theme=dark] .colab-df-convert:hover {\n",
              "      background-color: #434B5C;\n",
              "      box-shadow: 0px 1px 3px 1px rgba(0, 0, 0, 0.15);\n",
              "      filter: drop-shadow(0px 1px 2px rgba(0, 0, 0, 0.3));\n",
              "      fill: #FFFFFF;\n",
              "    }\n",
              "  </style>\n",
              "\n",
              "      <script>\n",
              "        const buttonEl =\n",
              "          document.querySelector('#df-925cb158-7b42-4ff9-9b6b-7907a167bd47 button.colab-df-convert');\n",
              "        buttonEl.style.display =\n",
              "          google.colab.kernel.accessAllowed ? 'block' : 'none';\n",
              "\n",
              "        async function convertToInteractive(key) {\n",
              "          const element = document.querySelector('#df-925cb158-7b42-4ff9-9b6b-7907a167bd47');\n",
              "          const dataTable =\n",
              "            await google.colab.kernel.invokeFunction('convertToInteractive',\n",
              "                                                     [key], {});\n",
              "          if (!dataTable) return;\n",
              "\n",
              "          const docLinkHtml = 'Like what you see? Visit the ' +\n",
              "            '<a target=\"_blank\" href=https://colab.research.google.com/notebooks/data_table.ipynb>data table notebook</a>'\n",
              "            + ' to learn more about interactive tables.';\n",
              "          element.innerHTML = '';\n",
              "          dataTable['output_type'] = 'display_data';\n",
              "          await google.colab.output.renderOutput(dataTable, element);\n",
              "          const docLink = document.createElement('div');\n",
              "          docLink.innerHTML = docLinkHtml;\n",
              "          element.appendChild(docLink);\n",
              "        }\n",
              "      </script>\n",
              "    </div>\n",
              "  </div>\n",
              "  "
            ]
          },
          "metadata": {},
          "execution_count": 9
        }
      ]
    },
    {
      "cell_type": "code",
      "source": [
        "si_Al.replace('ND', np.nan, inplace = True)\n",
        "si_Al.dropna(inplace = True)\n",
        "si_Al.sample(10)"
      ],
      "metadata": {
        "id": "P7GmsIqZSEMU",
        "colab": {
          "base_uri": "https://localhost:8080/",
          "height": 474
        },
        "outputId": "0e71d4e4-6103-401c-e8f5-a435a1a361bf"
      },
      "execution_count": null,
      "outputs": [
        {
          "output_type": "execute_result",
          "data": {
            "text/plain": [
              "     Aluminio (Al) intercambiable     408.5       417     425.5       434  \\\n",
              "802                          2.40  0.915876  0.917234  0.910571  0.899823   \n",
              "3225                         2.59  1.051130  1.065698  1.072866  1.078126   \n",
              "42                           0.52  0.945423  0.946244  0.940410  0.931802   \n",
              "3764                         1.99  1.246385  1.258180  1.267117  1.275326   \n",
              "2863                         2.57  0.799519  0.801970  0.800990  0.798497   \n",
              "1239                         3.03  0.994620  0.998023  0.990829  0.978967   \n",
              "302                          3.20  0.893884  0.899549  0.897733  0.890815   \n",
              "3780                         1.25  0.849473  0.852893  0.850221  0.844731   \n",
              "3393                         2.77  1.057290  1.064915  1.070285  1.075509   \n",
              "2572                         1.26  1.017225  1.023955  1.025025  1.023356   \n",
              "\n",
              "         442.5       451     459.5       468     476.5  ...    2414.5  \\\n",
              "802   0.890762  0.887702  0.888299  0.887358  0.880531  ...  0.511972   \n",
              "3225  1.084351  1.091910  1.099592  1.103472  1.100964  ...  0.537185   \n",
              "42    0.922294  0.915084  0.909237  0.903092  0.894396  ...  0.426930   \n",
              "3764  1.283697  1.290373  1.295443  1.298287  1.298507  ...  0.547615   \n",
              "2863  0.796605  0.795230  0.794511  0.793081  0.789411  ...  0.396353   \n",
              "1239  0.969957  0.969292  0.973835  0.975281  0.967881  ...  0.613415   \n",
              "302   0.883232  0.878832  0.877233  0.874975  0.868803  ...  0.358768   \n",
              "3780  0.839367  0.834943  0.831015  0.826235  0.818541  ...  0.378281   \n",
              "3393  1.080031  1.083364  1.085433  1.086100  1.085049  ...  0.560798   \n",
              "2572  1.021516  1.020933  1.021048  1.019757  1.014838  ...  0.489475   \n",
              "\n",
              "          2423    2431.5      2440    2448.5      2457    2465.5      2474  \\\n",
              "802   0.518849  0.527178  0.534674  0.540064  0.545433  0.551581  0.558413   \n",
              "3225  0.546062  0.558211  0.568978  0.575104  0.580523  0.587508  0.596509   \n",
              "42    0.429641  0.433063  0.436258  0.439131  0.441861  0.444750  0.447564   \n",
              "3764  0.556111  0.565249  0.574711  0.584057  0.593396  0.602800  0.611471   \n",
              "2863  0.400552  0.404998  0.408338  0.410131  0.411422  0.412902  0.414590   \n",
              "1239  0.621205  0.630839  0.638884  0.644123  0.649300  0.656106  0.664202   \n",
              "302   0.366009  0.374966  0.382925  0.388177  0.392587  0.396878  0.401996   \n",
              "3780  0.381873  0.386071  0.390092  0.393269  0.396280  0.399436  0.402720   \n",
              "3393  0.570716  0.581594  0.590637  0.597540  0.604473  0.612380  0.620795   \n",
              "2572  0.495494  0.502497  0.509004  0.514315  0.519431  0.524900  0.530589   \n",
              "\n",
              "        2482.5      2491  \n",
              "802   0.565740  0.570542  \n",
              "3225  0.606892  0.612892  \n",
              "42    0.450326  0.452065  \n",
              "3764  0.619641  0.626198  \n",
              "2863  0.416751  0.417856  \n",
              "1239  0.672487  0.677347  \n",
              "302   0.408546  0.412589  \n",
              "3780  0.406217  0.408399  \n",
              "3393  0.629283  0.635144  \n",
              "2572  0.536402  0.540383  \n",
              "\n",
              "[10 rows x 247 columns]"
            ],
            "text/html": [
              "\n",
              "  <div id=\"df-5fe1dff3-af1d-4daa-bcb2-755ef1823fea\">\n",
              "    <div class=\"colab-df-container\">\n",
              "      <div>\n",
              "<style scoped>\n",
              "    .dataframe tbody tr th:only-of-type {\n",
              "        vertical-align: middle;\n",
              "    }\n",
              "\n",
              "    .dataframe tbody tr th {\n",
              "        vertical-align: top;\n",
              "    }\n",
              "\n",
              "    .dataframe thead th {\n",
              "        text-align: right;\n",
              "    }\n",
              "</style>\n",
              "<table border=\"1\" class=\"dataframe\">\n",
              "  <thead>\n",
              "    <tr style=\"text-align: right;\">\n",
              "      <th></th>\n",
              "      <th>Aluminio (Al) intercambiable</th>\n",
              "      <th>408.5</th>\n",
              "      <th>417</th>\n",
              "      <th>425.5</th>\n",
              "      <th>434</th>\n",
              "      <th>442.5</th>\n",
              "      <th>451</th>\n",
              "      <th>459.5</th>\n",
              "      <th>468</th>\n",
              "      <th>476.5</th>\n",
              "      <th>...</th>\n",
              "      <th>2414.5</th>\n",
              "      <th>2423</th>\n",
              "      <th>2431.5</th>\n",
              "      <th>2440</th>\n",
              "      <th>2448.5</th>\n",
              "      <th>2457</th>\n",
              "      <th>2465.5</th>\n",
              "      <th>2474</th>\n",
              "      <th>2482.5</th>\n",
              "      <th>2491</th>\n",
              "    </tr>\n",
              "  </thead>\n",
              "  <tbody>\n",
              "    <tr>\n",
              "      <th>802</th>\n",
              "      <td>2.40</td>\n",
              "      <td>0.915876</td>\n",
              "      <td>0.917234</td>\n",
              "      <td>0.910571</td>\n",
              "      <td>0.899823</td>\n",
              "      <td>0.890762</td>\n",
              "      <td>0.887702</td>\n",
              "      <td>0.888299</td>\n",
              "      <td>0.887358</td>\n",
              "      <td>0.880531</td>\n",
              "      <td>...</td>\n",
              "      <td>0.511972</td>\n",
              "      <td>0.518849</td>\n",
              "      <td>0.527178</td>\n",
              "      <td>0.534674</td>\n",
              "      <td>0.540064</td>\n",
              "      <td>0.545433</td>\n",
              "      <td>0.551581</td>\n",
              "      <td>0.558413</td>\n",
              "      <td>0.565740</td>\n",
              "      <td>0.570542</td>\n",
              "    </tr>\n",
              "    <tr>\n",
              "      <th>3225</th>\n",
              "      <td>2.59</td>\n",
              "      <td>1.051130</td>\n",
              "      <td>1.065698</td>\n",
              "      <td>1.072866</td>\n",
              "      <td>1.078126</td>\n",
              "      <td>1.084351</td>\n",
              "      <td>1.091910</td>\n",
              "      <td>1.099592</td>\n",
              "      <td>1.103472</td>\n",
              "      <td>1.100964</td>\n",
              "      <td>...</td>\n",
              "      <td>0.537185</td>\n",
              "      <td>0.546062</td>\n",
              "      <td>0.558211</td>\n",
              "      <td>0.568978</td>\n",
              "      <td>0.575104</td>\n",
              "      <td>0.580523</td>\n",
              "      <td>0.587508</td>\n",
              "      <td>0.596509</td>\n",
              "      <td>0.606892</td>\n",
              "      <td>0.612892</td>\n",
              "    </tr>\n",
              "    <tr>\n",
              "      <th>42</th>\n",
              "      <td>0.52</td>\n",
              "      <td>0.945423</td>\n",
              "      <td>0.946244</td>\n",
              "      <td>0.940410</td>\n",
              "      <td>0.931802</td>\n",
              "      <td>0.922294</td>\n",
              "      <td>0.915084</td>\n",
              "      <td>0.909237</td>\n",
              "      <td>0.903092</td>\n",
              "      <td>0.894396</td>\n",
              "      <td>...</td>\n",
              "      <td>0.426930</td>\n",
              "      <td>0.429641</td>\n",
              "      <td>0.433063</td>\n",
              "      <td>0.436258</td>\n",
              "      <td>0.439131</td>\n",
              "      <td>0.441861</td>\n",
              "      <td>0.444750</td>\n",
              "      <td>0.447564</td>\n",
              "      <td>0.450326</td>\n",
              "      <td>0.452065</td>\n",
              "    </tr>\n",
              "    <tr>\n",
              "      <th>3764</th>\n",
              "      <td>1.99</td>\n",
              "      <td>1.246385</td>\n",
              "      <td>1.258180</td>\n",
              "      <td>1.267117</td>\n",
              "      <td>1.275326</td>\n",
              "      <td>1.283697</td>\n",
              "      <td>1.290373</td>\n",
              "      <td>1.295443</td>\n",
              "      <td>1.298287</td>\n",
              "      <td>1.298507</td>\n",
              "      <td>...</td>\n",
              "      <td>0.547615</td>\n",
              "      <td>0.556111</td>\n",
              "      <td>0.565249</td>\n",
              "      <td>0.574711</td>\n",
              "      <td>0.584057</td>\n",
              "      <td>0.593396</td>\n",
              "      <td>0.602800</td>\n",
              "      <td>0.611471</td>\n",
              "      <td>0.619641</td>\n",
              "      <td>0.626198</td>\n",
              "    </tr>\n",
              "    <tr>\n",
              "      <th>2863</th>\n",
              "      <td>2.57</td>\n",
              "      <td>0.799519</td>\n",
              "      <td>0.801970</td>\n",
              "      <td>0.800990</td>\n",
              "      <td>0.798497</td>\n",
              "      <td>0.796605</td>\n",
              "      <td>0.795230</td>\n",
              "      <td>0.794511</td>\n",
              "      <td>0.793081</td>\n",
              "      <td>0.789411</td>\n",
              "      <td>...</td>\n",
              "      <td>0.396353</td>\n",
              "      <td>0.400552</td>\n",
              "      <td>0.404998</td>\n",
              "      <td>0.408338</td>\n",
              "      <td>0.410131</td>\n",
              "      <td>0.411422</td>\n",
              "      <td>0.412902</td>\n",
              "      <td>0.414590</td>\n",
              "      <td>0.416751</td>\n",
              "      <td>0.417856</td>\n",
              "    </tr>\n",
              "    <tr>\n",
              "      <th>1239</th>\n",
              "      <td>3.03</td>\n",
              "      <td>0.994620</td>\n",
              "      <td>0.998023</td>\n",
              "      <td>0.990829</td>\n",
              "      <td>0.978967</td>\n",
              "      <td>0.969957</td>\n",
              "      <td>0.969292</td>\n",
              "      <td>0.973835</td>\n",
              "      <td>0.975281</td>\n",
              "      <td>0.967881</td>\n",
              "      <td>...</td>\n",
              "      <td>0.613415</td>\n",
              "      <td>0.621205</td>\n",
              "      <td>0.630839</td>\n",
              "      <td>0.638884</td>\n",
              "      <td>0.644123</td>\n",
              "      <td>0.649300</td>\n",
              "      <td>0.656106</td>\n",
              "      <td>0.664202</td>\n",
              "      <td>0.672487</td>\n",
              "      <td>0.677347</td>\n",
              "    </tr>\n",
              "    <tr>\n",
              "      <th>302</th>\n",
              "      <td>3.20</td>\n",
              "      <td>0.893884</td>\n",
              "      <td>0.899549</td>\n",
              "      <td>0.897733</td>\n",
              "      <td>0.890815</td>\n",
              "      <td>0.883232</td>\n",
              "      <td>0.878832</td>\n",
              "      <td>0.877233</td>\n",
              "      <td>0.874975</td>\n",
              "      <td>0.868803</td>\n",
              "      <td>...</td>\n",
              "      <td>0.358768</td>\n",
              "      <td>0.366009</td>\n",
              "      <td>0.374966</td>\n",
              "      <td>0.382925</td>\n",
              "      <td>0.388177</td>\n",
              "      <td>0.392587</td>\n",
              "      <td>0.396878</td>\n",
              "      <td>0.401996</td>\n",
              "      <td>0.408546</td>\n",
              "      <td>0.412589</td>\n",
              "    </tr>\n",
              "    <tr>\n",
              "      <th>3780</th>\n",
              "      <td>1.25</td>\n",
              "      <td>0.849473</td>\n",
              "      <td>0.852893</td>\n",
              "      <td>0.850221</td>\n",
              "      <td>0.844731</td>\n",
              "      <td>0.839367</td>\n",
              "      <td>0.834943</td>\n",
              "      <td>0.831015</td>\n",
              "      <td>0.826235</td>\n",
              "      <td>0.818541</td>\n",
              "      <td>...</td>\n",
              "      <td>0.378281</td>\n",
              "      <td>0.381873</td>\n",
              "      <td>0.386071</td>\n",
              "      <td>0.390092</td>\n",
              "      <td>0.393269</td>\n",
              "      <td>0.396280</td>\n",
              "      <td>0.399436</td>\n",
              "      <td>0.402720</td>\n",
              "      <td>0.406217</td>\n",
              "      <td>0.408399</td>\n",
              "    </tr>\n",
              "    <tr>\n",
              "      <th>3393</th>\n",
              "      <td>2.77</td>\n",
              "      <td>1.057290</td>\n",
              "      <td>1.064915</td>\n",
              "      <td>1.070285</td>\n",
              "      <td>1.075509</td>\n",
              "      <td>1.080031</td>\n",
              "      <td>1.083364</td>\n",
              "      <td>1.085433</td>\n",
              "      <td>1.086100</td>\n",
              "      <td>1.085049</td>\n",
              "      <td>...</td>\n",
              "      <td>0.560798</td>\n",
              "      <td>0.570716</td>\n",
              "      <td>0.581594</td>\n",
              "      <td>0.590637</td>\n",
              "      <td>0.597540</td>\n",
              "      <td>0.604473</td>\n",
              "      <td>0.612380</td>\n",
              "      <td>0.620795</td>\n",
              "      <td>0.629283</td>\n",
              "      <td>0.635144</td>\n",
              "    </tr>\n",
              "    <tr>\n",
              "      <th>2572</th>\n",
              "      <td>1.26</td>\n",
              "      <td>1.017225</td>\n",
              "      <td>1.023955</td>\n",
              "      <td>1.025025</td>\n",
              "      <td>1.023356</td>\n",
              "      <td>1.021516</td>\n",
              "      <td>1.020933</td>\n",
              "      <td>1.021048</td>\n",
              "      <td>1.019757</td>\n",
              "      <td>1.014838</td>\n",
              "      <td>...</td>\n",
              "      <td>0.489475</td>\n",
              "      <td>0.495494</td>\n",
              "      <td>0.502497</td>\n",
              "      <td>0.509004</td>\n",
              "      <td>0.514315</td>\n",
              "      <td>0.519431</td>\n",
              "      <td>0.524900</td>\n",
              "      <td>0.530589</td>\n",
              "      <td>0.536402</td>\n",
              "      <td>0.540383</td>\n",
              "    </tr>\n",
              "  </tbody>\n",
              "</table>\n",
              "<p>10 rows × 247 columns</p>\n",
              "</div>\n",
              "      <button class=\"colab-df-convert\" onclick=\"convertToInteractive('df-5fe1dff3-af1d-4daa-bcb2-755ef1823fea')\"\n",
              "              title=\"Convert this dataframe to an interactive table.\"\n",
              "              style=\"display:none;\">\n",
              "        \n",
              "  <svg xmlns=\"http://www.w3.org/2000/svg\" height=\"24px\"viewBox=\"0 0 24 24\"\n",
              "       width=\"24px\">\n",
              "    <path d=\"M0 0h24v24H0V0z\" fill=\"none\"/>\n",
              "    <path d=\"M18.56 5.44l.94 2.06.94-2.06 2.06-.94-2.06-.94-.94-2.06-.94 2.06-2.06.94zm-11 1L8.5 8.5l.94-2.06 2.06-.94-2.06-.94L8.5 2.5l-.94 2.06-2.06.94zm10 10l.94 2.06.94-2.06 2.06-.94-2.06-.94-.94-2.06-.94 2.06-2.06.94z\"/><path d=\"M17.41 7.96l-1.37-1.37c-.4-.4-.92-.59-1.43-.59-.52 0-1.04.2-1.43.59L10.3 9.45l-7.72 7.72c-.78.78-.78 2.05 0 2.83L4 21.41c.39.39.9.59 1.41.59.51 0 1.02-.2 1.41-.59l7.78-7.78 2.81-2.81c.8-.78.8-2.07 0-2.86zM5.41 20L4 18.59l7.72-7.72 1.47 1.35L5.41 20z\"/>\n",
              "  </svg>\n",
              "      </button>\n",
              "      \n",
              "  <style>\n",
              "    .colab-df-container {\n",
              "      display:flex;\n",
              "      flex-wrap:wrap;\n",
              "      gap: 12px;\n",
              "    }\n",
              "\n",
              "    .colab-df-convert {\n",
              "      background-color: #E8F0FE;\n",
              "      border: none;\n",
              "      border-radius: 50%;\n",
              "      cursor: pointer;\n",
              "      display: none;\n",
              "      fill: #1967D2;\n",
              "      height: 32px;\n",
              "      padding: 0 0 0 0;\n",
              "      width: 32px;\n",
              "    }\n",
              "\n",
              "    .colab-df-convert:hover {\n",
              "      background-color: #E2EBFA;\n",
              "      box-shadow: 0px 1px 2px rgba(60, 64, 67, 0.3), 0px 1px 3px 1px rgba(60, 64, 67, 0.15);\n",
              "      fill: #174EA6;\n",
              "    }\n",
              "\n",
              "    [theme=dark] .colab-df-convert {\n",
              "      background-color: #3B4455;\n",
              "      fill: #D2E3FC;\n",
              "    }\n",
              "\n",
              "    [theme=dark] .colab-df-convert:hover {\n",
              "      background-color: #434B5C;\n",
              "      box-shadow: 0px 1px 3px 1px rgba(0, 0, 0, 0.15);\n",
              "      filter: drop-shadow(0px 1px 2px rgba(0, 0, 0, 0.3));\n",
              "      fill: #FFFFFF;\n",
              "    }\n",
              "  </style>\n",
              "\n",
              "      <script>\n",
              "        const buttonEl =\n",
              "          document.querySelector('#df-5fe1dff3-af1d-4daa-bcb2-755ef1823fea button.colab-df-convert');\n",
              "        buttonEl.style.display =\n",
              "          google.colab.kernel.accessAllowed ? 'block' : 'none';\n",
              "\n",
              "        async function convertToInteractive(key) {\n",
              "          const element = document.querySelector('#df-5fe1dff3-af1d-4daa-bcb2-755ef1823fea');\n",
              "          const dataTable =\n",
              "            await google.colab.kernel.invokeFunction('convertToInteractive',\n",
              "                                                     [key], {});\n",
              "          if (!dataTable) return;\n",
              "\n",
              "          const docLinkHtml = 'Like what you see? Visit the ' +\n",
              "            '<a target=\"_blank\" href=https://colab.research.google.com/notebooks/data_table.ipynb>data table notebook</a>'\n",
              "            + ' to learn more about interactive tables.';\n",
              "          element.innerHTML = '';\n",
              "          dataTable['output_type'] = 'display_data';\n",
              "          await google.colab.output.renderOutput(dataTable, element);\n",
              "          const docLink = document.createElement('div');\n",
              "          docLink.innerHTML = docLinkHtml;\n",
              "          element.appendChild(docLink);\n",
              "        }\n",
              "      </script>\n",
              "    </div>\n",
              "  </div>\n",
              "  "
            ]
          },
          "metadata": {},
          "execution_count": 10
        }
      ]
    },
    {
      "cell_type": "code",
      "source": [
        "print(si_Al.shape)"
      ],
      "metadata": {
        "id": "nuv5yaZfRxwB",
        "colab": {
          "base_uri": "https://localhost:8080/"
        },
        "outputId": "b54595d7-7885-48d6-cb7d-6f7eb0a02f30"
      },
      "execution_count": null,
      "outputs": [
        {
          "output_type": "stream",
          "name": "stdout",
          "text": [
            "(1661, 247)\n"
          ]
        }
      ]
    },
    {
      "cell_type": "markdown",
      "source": [
        "##**Datos PH**"
      ],
      "metadata": {
        "id": "GwGhOIj1Y80j"
      }
    },
    {
      "cell_type": "markdown",
      "source": [
        "####**Cargar datos de pH**"
      ],
      "metadata": {
        "id": "F0nS2_6NeybF"
      }
    },
    {
      "cell_type": "code",
      "source": [
        "listCol = [23]+ [i for i in range(51, 297)]\n",
        "subsetpH = data.iloc[:, listCol]\n",
        "subsetpH.sample(10)"
      ],
      "metadata": {
        "colab": {
          "base_uri": "https://localhost:8080/",
          "height": 457
        },
        "id": "LEnWnq8FU3fD",
        "outputId": "0b0c239f-683b-49c3-9ed1-612947721770"
      },
      "execution_count": null,
      "outputs": [
        {
          "output_type": "execute_result",
          "data": {
            "text/plain": [
              "        pH     408.5       417     425.5       434     442.5       451  \\\n",
              "2796  5.05  0.890888  0.895558  0.894596  0.890840  0.886957  0.885103   \n",
              "2444  5.68  0.835814  0.842518  0.846101  0.848920  0.850342  0.850360   \n",
              "2056  5.60  1.054804  1.066142  1.074175  1.081114  1.087325  1.091889   \n",
              "2013  5.68  1.034415  1.045183  1.051281  1.055029  1.058238  1.060497   \n",
              "5887   NaN       NaN       NaN       NaN       NaN       NaN       NaN   \n",
              "511   4.79  1.085474  1.093997  1.096499  1.096781  1.097612  1.100175   \n",
              "5628   NaN       NaN       NaN       NaN       NaN       NaN       NaN   \n",
              "3803  4.37  0.792907  0.795852  0.789580  0.779592  0.772421  0.771815   \n",
              "4148   NaN       NaN       NaN       NaN       NaN       NaN       NaN   \n",
              "953    NaN  0.751645  0.754601  0.749413  0.739940  0.730122  0.724570   \n",
              "\n",
              "         459.5       468     476.5  ...    2414.5      2423    2431.5  \\\n",
              "2796  0.885005  0.883808  0.879361  ...  0.491757  0.498773  0.507001   \n",
              "2444  0.849135  0.846178  0.840761  ...  0.398735  0.404422  0.411318   \n",
              "2056  1.094552  1.095074  1.092711  ...  0.533632  0.541836  0.550531   \n",
              "2013  1.061606  1.060606  1.056807  ...  0.374773  0.377928  0.381523   \n",
              "5887       NaN       NaN       NaN  ...       NaN       NaN       NaN   \n",
              "511   1.102546  1.102758  1.099076  ...  0.424603  0.430764  0.438391   \n",
              "5628       NaN       NaN       NaN  ...       NaN       NaN       NaN   \n",
              "3803  0.774680  0.774671  0.766992  ...  0.455684  0.463279  0.473353   \n",
              "4148       NaN       NaN       NaN  ...       NaN       NaN       NaN   \n",
              "953   0.722763  0.720786  0.714982  ...  0.360158  0.369185  0.380887   \n",
              "\n",
              "          2440    2448.5      2457    2465.5      2474    2482.5      2491  \n",
              "2796  0.514061  0.519040  0.523652  0.529017  0.535005  0.541240  0.545135  \n",
              "2444  0.417894  0.423202  0.428185  0.433432  0.438962  0.444594  0.448364  \n",
              "2056  0.558870  0.567077  0.575570  0.584188  0.592394  0.599861  0.605619  \n",
              "2013  0.384904  0.387608  0.390028  0.392548  0.394887  0.397092  0.398380  \n",
              "5887       NaN       NaN       NaN       NaN       NaN       NaN       NaN  \n",
              "511   0.445370  0.450335  0.454746  0.459566  0.465041  0.471121  0.474593  \n",
              "5628       NaN       NaN       NaN       NaN       NaN       NaN       NaN  \n",
              "3803  0.482681  0.488367  0.493123  0.498774  0.505683  0.513722  0.518528  \n",
              "4148       NaN       NaN       NaN       NaN       NaN       NaN       NaN  \n",
              "953   0.391096  0.396158  0.399014  0.402181  0.407176  0.414747  0.418989  \n",
              "\n",
              "[10 rows x 247 columns]"
            ],
            "text/html": [
              "\n",
              "  <div id=\"df-993c9f40-dac5-4820-9d28-c741355866ba\">\n",
              "    <div class=\"colab-df-container\">\n",
              "      <div>\n",
              "<style scoped>\n",
              "    .dataframe tbody tr th:only-of-type {\n",
              "        vertical-align: middle;\n",
              "    }\n",
              "\n",
              "    .dataframe tbody tr th {\n",
              "        vertical-align: top;\n",
              "    }\n",
              "\n",
              "    .dataframe thead th {\n",
              "        text-align: right;\n",
              "    }\n",
              "</style>\n",
              "<table border=\"1\" class=\"dataframe\">\n",
              "  <thead>\n",
              "    <tr style=\"text-align: right;\">\n",
              "      <th></th>\n",
              "      <th>pH</th>\n",
              "      <th>408.5</th>\n",
              "      <th>417</th>\n",
              "      <th>425.5</th>\n",
              "      <th>434</th>\n",
              "      <th>442.5</th>\n",
              "      <th>451</th>\n",
              "      <th>459.5</th>\n",
              "      <th>468</th>\n",
              "      <th>476.5</th>\n",
              "      <th>...</th>\n",
              "      <th>2414.5</th>\n",
              "      <th>2423</th>\n",
              "      <th>2431.5</th>\n",
              "      <th>2440</th>\n",
              "      <th>2448.5</th>\n",
              "      <th>2457</th>\n",
              "      <th>2465.5</th>\n",
              "      <th>2474</th>\n",
              "      <th>2482.5</th>\n",
              "      <th>2491</th>\n",
              "    </tr>\n",
              "  </thead>\n",
              "  <tbody>\n",
              "    <tr>\n",
              "      <th>2796</th>\n",
              "      <td>5.05</td>\n",
              "      <td>0.890888</td>\n",
              "      <td>0.895558</td>\n",
              "      <td>0.894596</td>\n",
              "      <td>0.890840</td>\n",
              "      <td>0.886957</td>\n",
              "      <td>0.885103</td>\n",
              "      <td>0.885005</td>\n",
              "      <td>0.883808</td>\n",
              "      <td>0.879361</td>\n",
              "      <td>...</td>\n",
              "      <td>0.491757</td>\n",
              "      <td>0.498773</td>\n",
              "      <td>0.507001</td>\n",
              "      <td>0.514061</td>\n",
              "      <td>0.519040</td>\n",
              "      <td>0.523652</td>\n",
              "      <td>0.529017</td>\n",
              "      <td>0.535005</td>\n",
              "      <td>0.541240</td>\n",
              "      <td>0.545135</td>\n",
              "    </tr>\n",
              "    <tr>\n",
              "      <th>2444</th>\n",
              "      <td>5.68</td>\n",
              "      <td>0.835814</td>\n",
              "      <td>0.842518</td>\n",
              "      <td>0.846101</td>\n",
              "      <td>0.848920</td>\n",
              "      <td>0.850342</td>\n",
              "      <td>0.850360</td>\n",
              "      <td>0.849135</td>\n",
              "      <td>0.846178</td>\n",
              "      <td>0.840761</td>\n",
              "      <td>...</td>\n",
              "      <td>0.398735</td>\n",
              "      <td>0.404422</td>\n",
              "      <td>0.411318</td>\n",
              "      <td>0.417894</td>\n",
              "      <td>0.423202</td>\n",
              "      <td>0.428185</td>\n",
              "      <td>0.433432</td>\n",
              "      <td>0.438962</td>\n",
              "      <td>0.444594</td>\n",
              "      <td>0.448364</td>\n",
              "    </tr>\n",
              "    <tr>\n",
              "      <th>2056</th>\n",
              "      <td>5.60</td>\n",
              "      <td>1.054804</td>\n",
              "      <td>1.066142</td>\n",
              "      <td>1.074175</td>\n",
              "      <td>1.081114</td>\n",
              "      <td>1.087325</td>\n",
              "      <td>1.091889</td>\n",
              "      <td>1.094552</td>\n",
              "      <td>1.095074</td>\n",
              "      <td>1.092711</td>\n",
              "      <td>...</td>\n",
              "      <td>0.533632</td>\n",
              "      <td>0.541836</td>\n",
              "      <td>0.550531</td>\n",
              "      <td>0.558870</td>\n",
              "      <td>0.567077</td>\n",
              "      <td>0.575570</td>\n",
              "      <td>0.584188</td>\n",
              "      <td>0.592394</td>\n",
              "      <td>0.599861</td>\n",
              "      <td>0.605619</td>\n",
              "    </tr>\n",
              "    <tr>\n",
              "      <th>2013</th>\n",
              "      <td>5.68</td>\n",
              "      <td>1.034415</td>\n",
              "      <td>1.045183</td>\n",
              "      <td>1.051281</td>\n",
              "      <td>1.055029</td>\n",
              "      <td>1.058238</td>\n",
              "      <td>1.060497</td>\n",
              "      <td>1.061606</td>\n",
              "      <td>1.060606</td>\n",
              "      <td>1.056807</td>\n",
              "      <td>...</td>\n",
              "      <td>0.374773</td>\n",
              "      <td>0.377928</td>\n",
              "      <td>0.381523</td>\n",
              "      <td>0.384904</td>\n",
              "      <td>0.387608</td>\n",
              "      <td>0.390028</td>\n",
              "      <td>0.392548</td>\n",
              "      <td>0.394887</td>\n",
              "      <td>0.397092</td>\n",
              "      <td>0.398380</td>\n",
              "    </tr>\n",
              "    <tr>\n",
              "      <th>5887</th>\n",
              "      <td>NaN</td>\n",
              "      <td>NaN</td>\n",
              "      <td>NaN</td>\n",
              "      <td>NaN</td>\n",
              "      <td>NaN</td>\n",
              "      <td>NaN</td>\n",
              "      <td>NaN</td>\n",
              "      <td>NaN</td>\n",
              "      <td>NaN</td>\n",
              "      <td>NaN</td>\n",
              "      <td>...</td>\n",
              "      <td>NaN</td>\n",
              "      <td>NaN</td>\n",
              "      <td>NaN</td>\n",
              "      <td>NaN</td>\n",
              "      <td>NaN</td>\n",
              "      <td>NaN</td>\n",
              "      <td>NaN</td>\n",
              "      <td>NaN</td>\n",
              "      <td>NaN</td>\n",
              "      <td>NaN</td>\n",
              "    </tr>\n",
              "    <tr>\n",
              "      <th>511</th>\n",
              "      <td>4.79</td>\n",
              "      <td>1.085474</td>\n",
              "      <td>1.093997</td>\n",
              "      <td>1.096499</td>\n",
              "      <td>1.096781</td>\n",
              "      <td>1.097612</td>\n",
              "      <td>1.100175</td>\n",
              "      <td>1.102546</td>\n",
              "      <td>1.102758</td>\n",
              "      <td>1.099076</td>\n",
              "      <td>...</td>\n",
              "      <td>0.424603</td>\n",
              "      <td>0.430764</td>\n",
              "      <td>0.438391</td>\n",
              "      <td>0.445370</td>\n",
              "      <td>0.450335</td>\n",
              "      <td>0.454746</td>\n",
              "      <td>0.459566</td>\n",
              "      <td>0.465041</td>\n",
              "      <td>0.471121</td>\n",
              "      <td>0.474593</td>\n",
              "    </tr>\n",
              "    <tr>\n",
              "      <th>5628</th>\n",
              "      <td>NaN</td>\n",
              "      <td>NaN</td>\n",
              "      <td>NaN</td>\n",
              "      <td>NaN</td>\n",
              "      <td>NaN</td>\n",
              "      <td>NaN</td>\n",
              "      <td>NaN</td>\n",
              "      <td>NaN</td>\n",
              "      <td>NaN</td>\n",
              "      <td>NaN</td>\n",
              "      <td>...</td>\n",
              "      <td>NaN</td>\n",
              "      <td>NaN</td>\n",
              "      <td>NaN</td>\n",
              "      <td>NaN</td>\n",
              "      <td>NaN</td>\n",
              "      <td>NaN</td>\n",
              "      <td>NaN</td>\n",
              "      <td>NaN</td>\n",
              "      <td>NaN</td>\n",
              "      <td>NaN</td>\n",
              "    </tr>\n",
              "    <tr>\n",
              "      <th>3803</th>\n",
              "      <td>4.37</td>\n",
              "      <td>0.792907</td>\n",
              "      <td>0.795852</td>\n",
              "      <td>0.789580</td>\n",
              "      <td>0.779592</td>\n",
              "      <td>0.772421</td>\n",
              "      <td>0.771815</td>\n",
              "      <td>0.774680</td>\n",
              "      <td>0.774671</td>\n",
              "      <td>0.766992</td>\n",
              "      <td>...</td>\n",
              "      <td>0.455684</td>\n",
              "      <td>0.463279</td>\n",
              "      <td>0.473353</td>\n",
              "      <td>0.482681</td>\n",
              "      <td>0.488367</td>\n",
              "      <td>0.493123</td>\n",
              "      <td>0.498774</td>\n",
              "      <td>0.505683</td>\n",
              "      <td>0.513722</td>\n",
              "      <td>0.518528</td>\n",
              "    </tr>\n",
              "    <tr>\n",
              "      <th>4148</th>\n",
              "      <td>NaN</td>\n",
              "      <td>NaN</td>\n",
              "      <td>NaN</td>\n",
              "      <td>NaN</td>\n",
              "      <td>NaN</td>\n",
              "      <td>NaN</td>\n",
              "      <td>NaN</td>\n",
              "      <td>NaN</td>\n",
              "      <td>NaN</td>\n",
              "      <td>NaN</td>\n",
              "      <td>...</td>\n",
              "      <td>NaN</td>\n",
              "      <td>NaN</td>\n",
              "      <td>NaN</td>\n",
              "      <td>NaN</td>\n",
              "      <td>NaN</td>\n",
              "      <td>NaN</td>\n",
              "      <td>NaN</td>\n",
              "      <td>NaN</td>\n",
              "      <td>NaN</td>\n",
              "      <td>NaN</td>\n",
              "    </tr>\n",
              "    <tr>\n",
              "      <th>953</th>\n",
              "      <td>NaN</td>\n",
              "      <td>0.751645</td>\n",
              "      <td>0.754601</td>\n",
              "      <td>0.749413</td>\n",
              "      <td>0.739940</td>\n",
              "      <td>0.730122</td>\n",
              "      <td>0.724570</td>\n",
              "      <td>0.722763</td>\n",
              "      <td>0.720786</td>\n",
              "      <td>0.714982</td>\n",
              "      <td>...</td>\n",
              "      <td>0.360158</td>\n",
              "      <td>0.369185</td>\n",
              "      <td>0.380887</td>\n",
              "      <td>0.391096</td>\n",
              "      <td>0.396158</td>\n",
              "      <td>0.399014</td>\n",
              "      <td>0.402181</td>\n",
              "      <td>0.407176</td>\n",
              "      <td>0.414747</td>\n",
              "      <td>0.418989</td>\n",
              "    </tr>\n",
              "  </tbody>\n",
              "</table>\n",
              "<p>10 rows × 247 columns</p>\n",
              "</div>\n",
              "      <button class=\"colab-df-convert\" onclick=\"convertToInteractive('df-993c9f40-dac5-4820-9d28-c741355866ba')\"\n",
              "              title=\"Convert this dataframe to an interactive table.\"\n",
              "              style=\"display:none;\">\n",
              "        \n",
              "  <svg xmlns=\"http://www.w3.org/2000/svg\" height=\"24px\"viewBox=\"0 0 24 24\"\n",
              "       width=\"24px\">\n",
              "    <path d=\"M0 0h24v24H0V0z\" fill=\"none\"/>\n",
              "    <path d=\"M18.56 5.44l.94 2.06.94-2.06 2.06-.94-2.06-.94-.94-2.06-.94 2.06-2.06.94zm-11 1L8.5 8.5l.94-2.06 2.06-.94-2.06-.94L8.5 2.5l-.94 2.06-2.06.94zm10 10l.94 2.06.94-2.06 2.06-.94-2.06-.94-.94-2.06-.94 2.06-2.06.94z\"/><path d=\"M17.41 7.96l-1.37-1.37c-.4-.4-.92-.59-1.43-.59-.52 0-1.04.2-1.43.59L10.3 9.45l-7.72 7.72c-.78.78-.78 2.05 0 2.83L4 21.41c.39.39.9.59 1.41.59.51 0 1.02-.2 1.41-.59l7.78-7.78 2.81-2.81c.8-.78.8-2.07 0-2.86zM5.41 20L4 18.59l7.72-7.72 1.47 1.35L5.41 20z\"/>\n",
              "  </svg>\n",
              "      </button>\n",
              "      \n",
              "  <style>\n",
              "    .colab-df-container {\n",
              "      display:flex;\n",
              "      flex-wrap:wrap;\n",
              "      gap: 12px;\n",
              "    }\n",
              "\n",
              "    .colab-df-convert {\n",
              "      background-color: #E8F0FE;\n",
              "      border: none;\n",
              "      border-radius: 50%;\n",
              "      cursor: pointer;\n",
              "      display: none;\n",
              "      fill: #1967D2;\n",
              "      height: 32px;\n",
              "      padding: 0 0 0 0;\n",
              "      width: 32px;\n",
              "    }\n",
              "\n",
              "    .colab-df-convert:hover {\n",
              "      background-color: #E2EBFA;\n",
              "      box-shadow: 0px 1px 2px rgba(60, 64, 67, 0.3), 0px 1px 3px 1px rgba(60, 64, 67, 0.15);\n",
              "      fill: #174EA6;\n",
              "    }\n",
              "\n",
              "    [theme=dark] .colab-df-convert {\n",
              "      background-color: #3B4455;\n",
              "      fill: #D2E3FC;\n",
              "    }\n",
              "\n",
              "    [theme=dark] .colab-df-convert:hover {\n",
              "      background-color: #434B5C;\n",
              "      box-shadow: 0px 1px 3px 1px rgba(0, 0, 0, 0.15);\n",
              "      filter: drop-shadow(0px 1px 2px rgba(0, 0, 0, 0.3));\n",
              "      fill: #FFFFFF;\n",
              "    }\n",
              "  </style>\n",
              "\n",
              "      <script>\n",
              "        const buttonEl =\n",
              "          document.querySelector('#df-993c9f40-dac5-4820-9d28-c741355866ba button.colab-df-convert');\n",
              "        buttonEl.style.display =\n",
              "          google.colab.kernel.accessAllowed ? 'block' : 'none';\n",
              "\n",
              "        async function convertToInteractive(key) {\n",
              "          const element = document.querySelector('#df-993c9f40-dac5-4820-9d28-c741355866ba');\n",
              "          const dataTable =\n",
              "            await google.colab.kernel.invokeFunction('convertToInteractive',\n",
              "                                                     [key], {});\n",
              "          if (!dataTable) return;\n",
              "\n",
              "          const docLinkHtml = 'Like what you see? Visit the ' +\n",
              "            '<a target=\"_blank\" href=https://colab.research.google.com/notebooks/data_table.ipynb>data table notebook</a>'\n",
              "            + ' to learn more about interactive tables.';\n",
              "          element.innerHTML = '';\n",
              "          dataTable['output_type'] = 'display_data';\n",
              "          await google.colab.output.renderOutput(dataTable, element);\n",
              "          const docLink = document.createElement('div');\n",
              "          docLink.innerHTML = docLinkHtml;\n",
              "          element.appendChild(docLink);\n",
              "        }\n",
              "      </script>\n",
              "    </div>\n",
              "  </div>\n",
              "  "
            ]
          },
          "metadata": {},
          "execution_count": 12
        }
      ]
    },
    {
      "cell_type": "markdown",
      "source": [
        "###**Probar eliminar ND**"
      ],
      "metadata": {
        "id": "Rk_xEsdse6mx"
      }
    },
    {
      "cell_type": "code",
      "source": [
        "import numpy as np\n",
        "na_ph = subsetpH.copy()\n",
        "na_ph.replace('ND', np.nan, inplace = True)\n",
        "na_ph.dropna(inplace = True)\n",
        "na_ph.sample(10)"
      ],
      "metadata": {
        "id": "ElQG77YEWr3c",
        "colab": {
          "base_uri": "https://localhost:8080/",
          "height": 457
        },
        "outputId": "43fcb1af-b36a-47e9-93bd-fd225721cf39"
      },
      "execution_count": null,
      "outputs": [
        {
          "output_type": "execute_result",
          "data": {
            "text/plain": [
              "        pH     408.5       417     425.5       434     442.5       451  \\\n",
              "3811  5.18  0.964643  0.968492  0.964859  0.957916  0.952488  0.950012   \n",
              "3394  6.47  0.885423  0.892775  0.894412  0.893240  0.891186  0.888926   \n",
              "1764  6.15  1.100961  1.106118  1.106909  1.105647  1.103507  1.101445   \n",
              "1372  6.00  1.001370  1.009983  1.013401  1.015659  1.016847  1.017123   \n",
              "2272  5.86  0.933291  0.940650  0.942431  0.940419  0.937900  0.936660   \n",
              "1198  7.10  1.090924  1.096547  1.096418  1.093291  1.090093  1.088753   \n",
              "994   5.24  1.058144  1.069584  1.072955  1.070163  1.067064  1.067537   \n",
              "1896  5.83  1.040001  1.048602  1.051652  1.052922  1.054083  1.055772   \n",
              "1254  4.44  1.084324  1.088164  1.084242  1.076089  1.068828  1.066806   \n",
              "2274  4.22  0.961612  0.970951  0.973913  0.975362  0.977998  0.981731   \n",
              "\n",
              "         459.5       468     476.5  ...    2414.5      2423    2431.5  \\\n",
              "3811  0.949392  0.947318  0.940101  ...  0.506582  0.511332  0.516590   \n",
              "3394  0.887430  0.885407  0.879071  ...  0.476361  0.484583  0.494258   \n",
              "1764  1.099558  1.096862  1.091991  ...  0.471443  0.474720  0.478517   \n",
              "1372  1.016691  1.014764  1.010592  ...  0.370983  0.376213  0.382336   \n",
              "2272  0.936488  0.935249  0.930351  ...  0.452445  0.458956  0.466375   \n",
              "1198  1.088737  1.088226  1.084890  ...  0.493421  0.501854  0.511746   \n",
              "994   1.070550  1.071842  1.067151  ...  0.497965  0.505252  0.514898   \n",
              "1896  1.056945  1.056015  1.051467  ...  0.487876  0.494297  0.501487   \n",
              "1254  1.067837  1.066514  1.058260  ...  0.643850  0.649031  0.654954   \n",
              "2274  0.985169  0.985111  0.978897  ...  0.452904  0.459434  0.466401   \n",
              "\n",
              "          2440    2448.5      2457    2465.5      2474    2482.5      2491  \n",
              "3811  0.521745  0.526825  0.532022  0.537610  0.542813  0.547844  0.551873  \n",
              "3394  0.503727  0.511446  0.518731  0.526382  0.534726  0.543360  0.550159  \n",
              "1764  0.482341  0.485875  0.489697  0.493483  0.496879  0.500014  0.502029  \n",
              "1372  0.388236  0.393264  0.398109  0.403001  0.407866  0.412726  0.415957  \n",
              "2272  0.473176  0.478502  0.483239  0.488051  0.493234  0.498937  0.502857  \n",
              "1198  0.520369  0.525979  0.530415  0.534740  0.540036  0.546582  0.550814  \n",
              "994   0.524387  0.531374  0.537698  0.544952  0.552965  0.561606  0.567500  \n",
              "1896  0.508621  0.515196  0.521798  0.528791  0.535386  0.541485  0.545837  \n",
              "1254  0.659916  0.663829  0.668346  0.673791  0.680064  0.686067  0.689909  \n",
              "2274  0.472370  0.476867  0.481186  0.485896  0.490864  0.495792  0.499231  \n",
              "\n",
              "[10 rows x 247 columns]"
            ],
            "text/html": [
              "\n",
              "  <div id=\"df-debf3b45-3981-4035-a07f-d43053f93f68\">\n",
              "    <div class=\"colab-df-container\">\n",
              "      <div>\n",
              "<style scoped>\n",
              "    .dataframe tbody tr th:only-of-type {\n",
              "        vertical-align: middle;\n",
              "    }\n",
              "\n",
              "    .dataframe tbody tr th {\n",
              "        vertical-align: top;\n",
              "    }\n",
              "\n",
              "    .dataframe thead th {\n",
              "        text-align: right;\n",
              "    }\n",
              "</style>\n",
              "<table border=\"1\" class=\"dataframe\">\n",
              "  <thead>\n",
              "    <tr style=\"text-align: right;\">\n",
              "      <th></th>\n",
              "      <th>pH</th>\n",
              "      <th>408.5</th>\n",
              "      <th>417</th>\n",
              "      <th>425.5</th>\n",
              "      <th>434</th>\n",
              "      <th>442.5</th>\n",
              "      <th>451</th>\n",
              "      <th>459.5</th>\n",
              "      <th>468</th>\n",
              "      <th>476.5</th>\n",
              "      <th>...</th>\n",
              "      <th>2414.5</th>\n",
              "      <th>2423</th>\n",
              "      <th>2431.5</th>\n",
              "      <th>2440</th>\n",
              "      <th>2448.5</th>\n",
              "      <th>2457</th>\n",
              "      <th>2465.5</th>\n",
              "      <th>2474</th>\n",
              "      <th>2482.5</th>\n",
              "      <th>2491</th>\n",
              "    </tr>\n",
              "  </thead>\n",
              "  <tbody>\n",
              "    <tr>\n",
              "      <th>3811</th>\n",
              "      <td>5.18</td>\n",
              "      <td>0.964643</td>\n",
              "      <td>0.968492</td>\n",
              "      <td>0.964859</td>\n",
              "      <td>0.957916</td>\n",
              "      <td>0.952488</td>\n",
              "      <td>0.950012</td>\n",
              "      <td>0.949392</td>\n",
              "      <td>0.947318</td>\n",
              "      <td>0.940101</td>\n",
              "      <td>...</td>\n",
              "      <td>0.506582</td>\n",
              "      <td>0.511332</td>\n",
              "      <td>0.516590</td>\n",
              "      <td>0.521745</td>\n",
              "      <td>0.526825</td>\n",
              "      <td>0.532022</td>\n",
              "      <td>0.537610</td>\n",
              "      <td>0.542813</td>\n",
              "      <td>0.547844</td>\n",
              "      <td>0.551873</td>\n",
              "    </tr>\n",
              "    <tr>\n",
              "      <th>3394</th>\n",
              "      <td>6.47</td>\n",
              "      <td>0.885423</td>\n",
              "      <td>0.892775</td>\n",
              "      <td>0.894412</td>\n",
              "      <td>0.893240</td>\n",
              "      <td>0.891186</td>\n",
              "      <td>0.888926</td>\n",
              "      <td>0.887430</td>\n",
              "      <td>0.885407</td>\n",
              "      <td>0.879071</td>\n",
              "      <td>...</td>\n",
              "      <td>0.476361</td>\n",
              "      <td>0.484583</td>\n",
              "      <td>0.494258</td>\n",
              "      <td>0.503727</td>\n",
              "      <td>0.511446</td>\n",
              "      <td>0.518731</td>\n",
              "      <td>0.526382</td>\n",
              "      <td>0.534726</td>\n",
              "      <td>0.543360</td>\n",
              "      <td>0.550159</td>\n",
              "    </tr>\n",
              "    <tr>\n",
              "      <th>1764</th>\n",
              "      <td>6.15</td>\n",
              "      <td>1.100961</td>\n",
              "      <td>1.106118</td>\n",
              "      <td>1.106909</td>\n",
              "      <td>1.105647</td>\n",
              "      <td>1.103507</td>\n",
              "      <td>1.101445</td>\n",
              "      <td>1.099558</td>\n",
              "      <td>1.096862</td>\n",
              "      <td>1.091991</td>\n",
              "      <td>...</td>\n",
              "      <td>0.471443</td>\n",
              "      <td>0.474720</td>\n",
              "      <td>0.478517</td>\n",
              "      <td>0.482341</td>\n",
              "      <td>0.485875</td>\n",
              "      <td>0.489697</td>\n",
              "      <td>0.493483</td>\n",
              "      <td>0.496879</td>\n",
              "      <td>0.500014</td>\n",
              "      <td>0.502029</td>\n",
              "    </tr>\n",
              "    <tr>\n",
              "      <th>1372</th>\n",
              "      <td>6.00</td>\n",
              "      <td>1.001370</td>\n",
              "      <td>1.009983</td>\n",
              "      <td>1.013401</td>\n",
              "      <td>1.015659</td>\n",
              "      <td>1.016847</td>\n",
              "      <td>1.017123</td>\n",
              "      <td>1.016691</td>\n",
              "      <td>1.014764</td>\n",
              "      <td>1.010592</td>\n",
              "      <td>...</td>\n",
              "      <td>0.370983</td>\n",
              "      <td>0.376213</td>\n",
              "      <td>0.382336</td>\n",
              "      <td>0.388236</td>\n",
              "      <td>0.393264</td>\n",
              "      <td>0.398109</td>\n",
              "      <td>0.403001</td>\n",
              "      <td>0.407866</td>\n",
              "      <td>0.412726</td>\n",
              "      <td>0.415957</td>\n",
              "    </tr>\n",
              "    <tr>\n",
              "      <th>2272</th>\n",
              "      <td>5.86</td>\n",
              "      <td>0.933291</td>\n",
              "      <td>0.940650</td>\n",
              "      <td>0.942431</td>\n",
              "      <td>0.940419</td>\n",
              "      <td>0.937900</td>\n",
              "      <td>0.936660</td>\n",
              "      <td>0.936488</td>\n",
              "      <td>0.935249</td>\n",
              "      <td>0.930351</td>\n",
              "      <td>...</td>\n",
              "      <td>0.452445</td>\n",
              "      <td>0.458956</td>\n",
              "      <td>0.466375</td>\n",
              "      <td>0.473176</td>\n",
              "      <td>0.478502</td>\n",
              "      <td>0.483239</td>\n",
              "      <td>0.488051</td>\n",
              "      <td>0.493234</td>\n",
              "      <td>0.498937</td>\n",
              "      <td>0.502857</td>\n",
              "    </tr>\n",
              "    <tr>\n",
              "      <th>1198</th>\n",
              "      <td>7.10</td>\n",
              "      <td>1.090924</td>\n",
              "      <td>1.096547</td>\n",
              "      <td>1.096418</td>\n",
              "      <td>1.093291</td>\n",
              "      <td>1.090093</td>\n",
              "      <td>1.088753</td>\n",
              "      <td>1.088737</td>\n",
              "      <td>1.088226</td>\n",
              "      <td>1.084890</td>\n",
              "      <td>...</td>\n",
              "      <td>0.493421</td>\n",
              "      <td>0.501854</td>\n",
              "      <td>0.511746</td>\n",
              "      <td>0.520369</td>\n",
              "      <td>0.525979</td>\n",
              "      <td>0.530415</td>\n",
              "      <td>0.534740</td>\n",
              "      <td>0.540036</td>\n",
              "      <td>0.546582</td>\n",
              "      <td>0.550814</td>\n",
              "    </tr>\n",
              "    <tr>\n",
              "      <th>994</th>\n",
              "      <td>5.24</td>\n",
              "      <td>1.058144</td>\n",
              "      <td>1.069584</td>\n",
              "      <td>1.072955</td>\n",
              "      <td>1.070163</td>\n",
              "      <td>1.067064</td>\n",
              "      <td>1.067537</td>\n",
              "      <td>1.070550</td>\n",
              "      <td>1.071842</td>\n",
              "      <td>1.067151</td>\n",
              "      <td>...</td>\n",
              "      <td>0.497965</td>\n",
              "      <td>0.505252</td>\n",
              "      <td>0.514898</td>\n",
              "      <td>0.524387</td>\n",
              "      <td>0.531374</td>\n",
              "      <td>0.537698</td>\n",
              "      <td>0.544952</td>\n",
              "      <td>0.552965</td>\n",
              "      <td>0.561606</td>\n",
              "      <td>0.567500</td>\n",
              "    </tr>\n",
              "    <tr>\n",
              "      <th>1896</th>\n",
              "      <td>5.83</td>\n",
              "      <td>1.040001</td>\n",
              "      <td>1.048602</td>\n",
              "      <td>1.051652</td>\n",
              "      <td>1.052922</td>\n",
              "      <td>1.054083</td>\n",
              "      <td>1.055772</td>\n",
              "      <td>1.056945</td>\n",
              "      <td>1.056015</td>\n",
              "      <td>1.051467</td>\n",
              "      <td>...</td>\n",
              "      <td>0.487876</td>\n",
              "      <td>0.494297</td>\n",
              "      <td>0.501487</td>\n",
              "      <td>0.508621</td>\n",
              "      <td>0.515196</td>\n",
              "      <td>0.521798</td>\n",
              "      <td>0.528791</td>\n",
              "      <td>0.535386</td>\n",
              "      <td>0.541485</td>\n",
              "      <td>0.545837</td>\n",
              "    </tr>\n",
              "    <tr>\n",
              "      <th>1254</th>\n",
              "      <td>4.44</td>\n",
              "      <td>1.084324</td>\n",
              "      <td>1.088164</td>\n",
              "      <td>1.084242</td>\n",
              "      <td>1.076089</td>\n",
              "      <td>1.068828</td>\n",
              "      <td>1.066806</td>\n",
              "      <td>1.067837</td>\n",
              "      <td>1.066514</td>\n",
              "      <td>1.058260</td>\n",
              "      <td>...</td>\n",
              "      <td>0.643850</td>\n",
              "      <td>0.649031</td>\n",
              "      <td>0.654954</td>\n",
              "      <td>0.659916</td>\n",
              "      <td>0.663829</td>\n",
              "      <td>0.668346</td>\n",
              "      <td>0.673791</td>\n",
              "      <td>0.680064</td>\n",
              "      <td>0.686067</td>\n",
              "      <td>0.689909</td>\n",
              "    </tr>\n",
              "    <tr>\n",
              "      <th>2274</th>\n",
              "      <td>4.22</td>\n",
              "      <td>0.961612</td>\n",
              "      <td>0.970951</td>\n",
              "      <td>0.973913</td>\n",
              "      <td>0.975362</td>\n",
              "      <td>0.977998</td>\n",
              "      <td>0.981731</td>\n",
              "      <td>0.985169</td>\n",
              "      <td>0.985111</td>\n",
              "      <td>0.978897</td>\n",
              "      <td>...</td>\n",
              "      <td>0.452904</td>\n",
              "      <td>0.459434</td>\n",
              "      <td>0.466401</td>\n",
              "      <td>0.472370</td>\n",
              "      <td>0.476867</td>\n",
              "      <td>0.481186</td>\n",
              "      <td>0.485896</td>\n",
              "      <td>0.490864</td>\n",
              "      <td>0.495792</td>\n",
              "      <td>0.499231</td>\n",
              "    </tr>\n",
              "  </tbody>\n",
              "</table>\n",
              "<p>10 rows × 247 columns</p>\n",
              "</div>\n",
              "      <button class=\"colab-df-convert\" onclick=\"convertToInteractive('df-debf3b45-3981-4035-a07f-d43053f93f68')\"\n",
              "              title=\"Convert this dataframe to an interactive table.\"\n",
              "              style=\"display:none;\">\n",
              "        \n",
              "  <svg xmlns=\"http://www.w3.org/2000/svg\" height=\"24px\"viewBox=\"0 0 24 24\"\n",
              "       width=\"24px\">\n",
              "    <path d=\"M0 0h24v24H0V0z\" fill=\"none\"/>\n",
              "    <path d=\"M18.56 5.44l.94 2.06.94-2.06 2.06-.94-2.06-.94-.94-2.06-.94 2.06-2.06.94zm-11 1L8.5 8.5l.94-2.06 2.06-.94-2.06-.94L8.5 2.5l-.94 2.06-2.06.94zm10 10l.94 2.06.94-2.06 2.06-.94-2.06-.94-.94-2.06-.94 2.06-2.06.94z\"/><path d=\"M17.41 7.96l-1.37-1.37c-.4-.4-.92-.59-1.43-.59-.52 0-1.04.2-1.43.59L10.3 9.45l-7.72 7.72c-.78.78-.78 2.05 0 2.83L4 21.41c.39.39.9.59 1.41.59.51 0 1.02-.2 1.41-.59l7.78-7.78 2.81-2.81c.8-.78.8-2.07 0-2.86zM5.41 20L4 18.59l7.72-7.72 1.47 1.35L5.41 20z\"/>\n",
              "  </svg>\n",
              "      </button>\n",
              "      \n",
              "  <style>\n",
              "    .colab-df-container {\n",
              "      display:flex;\n",
              "      flex-wrap:wrap;\n",
              "      gap: 12px;\n",
              "    }\n",
              "\n",
              "    .colab-df-convert {\n",
              "      background-color: #E8F0FE;\n",
              "      border: none;\n",
              "      border-radius: 50%;\n",
              "      cursor: pointer;\n",
              "      display: none;\n",
              "      fill: #1967D2;\n",
              "      height: 32px;\n",
              "      padding: 0 0 0 0;\n",
              "      width: 32px;\n",
              "    }\n",
              "\n",
              "    .colab-df-convert:hover {\n",
              "      background-color: #E2EBFA;\n",
              "      box-shadow: 0px 1px 2px rgba(60, 64, 67, 0.3), 0px 1px 3px 1px rgba(60, 64, 67, 0.15);\n",
              "      fill: #174EA6;\n",
              "    }\n",
              "\n",
              "    [theme=dark] .colab-df-convert {\n",
              "      background-color: #3B4455;\n",
              "      fill: #D2E3FC;\n",
              "    }\n",
              "\n",
              "    [theme=dark] .colab-df-convert:hover {\n",
              "      background-color: #434B5C;\n",
              "      box-shadow: 0px 1px 3px 1px rgba(0, 0, 0, 0.15);\n",
              "      filter: drop-shadow(0px 1px 2px rgba(0, 0, 0, 0.3));\n",
              "      fill: #FFFFFF;\n",
              "    }\n",
              "  </style>\n",
              "\n",
              "      <script>\n",
              "        const buttonEl =\n",
              "          document.querySelector('#df-debf3b45-3981-4035-a07f-d43053f93f68 button.colab-df-convert');\n",
              "        buttonEl.style.display =\n",
              "          google.colab.kernel.accessAllowed ? 'block' : 'none';\n",
              "\n",
              "        async function convertToInteractive(key) {\n",
              "          const element = document.querySelector('#df-debf3b45-3981-4035-a07f-d43053f93f68');\n",
              "          const dataTable =\n",
              "            await google.colab.kernel.invokeFunction('convertToInteractive',\n",
              "                                                     [key], {});\n",
              "          if (!dataTable) return;\n",
              "\n",
              "          const docLinkHtml = 'Like what you see? Visit the ' +\n",
              "            '<a target=\"_blank\" href=https://colab.research.google.com/notebooks/data_table.ipynb>data table notebook</a>'\n",
              "            + ' to learn more about interactive tables.';\n",
              "          element.innerHTML = '';\n",
              "          dataTable['output_type'] = 'display_data';\n",
              "          await google.colab.output.renderOutput(dataTable, element);\n",
              "          const docLink = document.createElement('div');\n",
              "          docLink.innerHTML = docLinkHtml;\n",
              "          element.appendChild(docLink);\n",
              "        }\n",
              "      </script>\n",
              "    </div>\n",
              "  </div>\n",
              "  "
            ]
          },
          "metadata": {},
          "execution_count": 13
        }
      ]
    },
    {
      "cell_type": "code",
      "source": [
        "print(subsetpH.shape)\n",
        "print(na_ph.shape)"
      ],
      "metadata": {
        "colab": {
          "base_uri": "https://localhost:8080/"
        },
        "id": "vtLBNWmjZ-ej",
        "outputId": "ccd96186-d9f0-4f79-b2d8-615778b20d97"
      },
      "execution_count": null,
      "outputs": [
        {
          "output_type": "stream",
          "name": "stdout",
          "text": [
            "(6178, 247)\n",
            "(3178, 247)\n"
          ]
        }
      ]
    },
    {
      "cell_type": "markdown",
      "source": [
        "###**Probar remplazar reflectancia con mean y pH con moda**"
      ],
      "metadata": {
        "id": "fYDaO6ScfCd8"
      }
    },
    {
      "cell_type": "code",
      "source": [
        "si_ph = subsetpH.copy()\n",
        "imputer= SimpleImputer(strategy='mean')\n",
        "imputer2 = SimpleImputer(strategy='most_frequent')\n",
        "si_ph.iloc[:, 1:] = imputer.fit_transform(si_ph.iloc[:, 1:])\n",
        "si_ph.iloc[:,0] = imputer2.fit_transform(si_ph.iloc[:,0].values.reshape(-1,1))\n",
        "si_ph.sample(10)"
      ],
      "metadata": {
        "colab": {
          "base_uri": "https://localhost:8080/",
          "height": 457
        },
        "id": "Hvh1DapvZ9qH",
        "outputId": "3186e014-c7bb-4433-8246-35b6ca073215"
      },
      "execution_count": null,
      "outputs": [
        {
          "output_type": "execute_result",
          "data": {
            "text/plain": [
              "        pH     408.5       417     425.5       434     442.5       451  \\\n",
              "2344  5.86  1.002584  1.012858  1.016734  1.015359  1.013822  1.012584   \n",
              "2049  6.68  1.025156  1.031554  1.033691  1.034416  1.035523  1.037086   \n",
              "1657  6.23  1.006520  1.009234  1.003053  0.991986  0.980464  0.972842   \n",
              "2949  5.92  0.998392  1.004379  1.005078  1.003015  1.000163  0.998043   \n",
              "2832  5.10  1.017225  1.023955  1.025025  1.023356  1.021516  1.020933   \n",
              "2657  5.10  1.017225  1.023955  1.025025  1.023356  1.021516  1.020933   \n",
              "6074  5.10  1.017225  1.023955  1.025025  1.023356  1.021516  1.020933   \n",
              "2866  6.47  0.854969  0.857798  0.855824  0.851796  0.848245  0.846773   \n",
              "2218  5.14  0.903243  0.906630  0.903303  0.896082  0.888785  0.884232   \n",
              "3357  5.50  1.023203  1.033149  1.035952  1.037741  1.040631  1.047011   \n",
              "\n",
              "         459.5       468     476.5  ...    2414.5      2423    2431.5  \\\n",
              "2344  1.012513  1.011280  1.006085  ...  0.505986  0.512929  0.521155   \n",
              "2049  1.038495  1.038408  1.035184  ...  0.439266  0.445285  0.451820   \n",
              "1657  0.969364  0.965971  0.959078  ...  0.531420  0.539125  0.547548   \n",
              "2949  0.996755  0.995087  0.990624  ...  0.520307  0.526907  0.534269   \n",
              "2832  1.021048  1.019757  1.014838  ...  0.489475  0.495494  0.502497   \n",
              "2657  1.021048  1.019757  1.014838  ...  0.489475  0.495494  0.502497   \n",
              "6074  1.021048  1.019757  1.014838  ...  0.489475  0.495494  0.502497   \n",
              "2866  0.846468  0.845294  0.841347  ...  0.469865  0.474824  0.480263   \n",
              "2218  0.882331  0.879850  0.873491  ...  0.447194  0.452886  0.459539   \n",
              "3357  1.053485  1.055994  1.051175  ...  0.452233  0.459727  0.469473   \n",
              "\n",
              "          2440    2448.5      2457    2465.5      2474    2482.5      2491  \n",
              "2344  0.529486  0.536740  0.543848  0.551645  0.559637  0.567672  0.573957  \n",
              "2049  0.457809  0.462908  0.467942  0.472985  0.478014  0.482926  0.486248  \n",
              "1657  0.555116  0.561244  0.567062  0.573137  0.579240  0.585544  0.590551  \n",
              "2949  0.541067  0.546824  0.552379  0.558413  0.564361  0.570288  0.575134  \n",
              "2832  0.509004  0.514315  0.519431  0.524900  0.530589  0.536402  0.540383  \n",
              "2657  0.509004  0.514315  0.519431  0.524900  0.530589  0.536402  0.540383  \n",
              "6074  0.509004  0.514315  0.519431  0.524900  0.530589  0.536402  0.540383  \n",
              "2866  0.484463  0.486855  0.488647  0.490829  0.493268  0.496381  0.498196  \n",
              "2218  0.465074  0.468335  0.470857  0.473668  0.477584  0.482437  0.485300  \n",
              "3357  0.478109  0.483503  0.488431  0.494558  0.501973  0.510266  0.515220  \n",
              "\n",
              "[10 rows x 247 columns]"
            ],
            "text/html": [
              "\n",
              "  <div id=\"df-76925328-cd6d-45cd-94d4-71668db572ed\">\n",
              "    <div class=\"colab-df-container\">\n",
              "      <div>\n",
              "<style scoped>\n",
              "    .dataframe tbody tr th:only-of-type {\n",
              "        vertical-align: middle;\n",
              "    }\n",
              "\n",
              "    .dataframe tbody tr th {\n",
              "        vertical-align: top;\n",
              "    }\n",
              "\n",
              "    .dataframe thead th {\n",
              "        text-align: right;\n",
              "    }\n",
              "</style>\n",
              "<table border=\"1\" class=\"dataframe\">\n",
              "  <thead>\n",
              "    <tr style=\"text-align: right;\">\n",
              "      <th></th>\n",
              "      <th>pH</th>\n",
              "      <th>408.5</th>\n",
              "      <th>417</th>\n",
              "      <th>425.5</th>\n",
              "      <th>434</th>\n",
              "      <th>442.5</th>\n",
              "      <th>451</th>\n",
              "      <th>459.5</th>\n",
              "      <th>468</th>\n",
              "      <th>476.5</th>\n",
              "      <th>...</th>\n",
              "      <th>2414.5</th>\n",
              "      <th>2423</th>\n",
              "      <th>2431.5</th>\n",
              "      <th>2440</th>\n",
              "      <th>2448.5</th>\n",
              "      <th>2457</th>\n",
              "      <th>2465.5</th>\n",
              "      <th>2474</th>\n",
              "      <th>2482.5</th>\n",
              "      <th>2491</th>\n",
              "    </tr>\n",
              "  </thead>\n",
              "  <tbody>\n",
              "    <tr>\n",
              "      <th>2344</th>\n",
              "      <td>5.86</td>\n",
              "      <td>1.002584</td>\n",
              "      <td>1.012858</td>\n",
              "      <td>1.016734</td>\n",
              "      <td>1.015359</td>\n",
              "      <td>1.013822</td>\n",
              "      <td>1.012584</td>\n",
              "      <td>1.012513</td>\n",
              "      <td>1.011280</td>\n",
              "      <td>1.006085</td>\n",
              "      <td>...</td>\n",
              "      <td>0.505986</td>\n",
              "      <td>0.512929</td>\n",
              "      <td>0.521155</td>\n",
              "      <td>0.529486</td>\n",
              "      <td>0.536740</td>\n",
              "      <td>0.543848</td>\n",
              "      <td>0.551645</td>\n",
              "      <td>0.559637</td>\n",
              "      <td>0.567672</td>\n",
              "      <td>0.573957</td>\n",
              "    </tr>\n",
              "    <tr>\n",
              "      <th>2049</th>\n",
              "      <td>6.68</td>\n",
              "      <td>1.025156</td>\n",
              "      <td>1.031554</td>\n",
              "      <td>1.033691</td>\n",
              "      <td>1.034416</td>\n",
              "      <td>1.035523</td>\n",
              "      <td>1.037086</td>\n",
              "      <td>1.038495</td>\n",
              "      <td>1.038408</td>\n",
              "      <td>1.035184</td>\n",
              "      <td>...</td>\n",
              "      <td>0.439266</td>\n",
              "      <td>0.445285</td>\n",
              "      <td>0.451820</td>\n",
              "      <td>0.457809</td>\n",
              "      <td>0.462908</td>\n",
              "      <td>0.467942</td>\n",
              "      <td>0.472985</td>\n",
              "      <td>0.478014</td>\n",
              "      <td>0.482926</td>\n",
              "      <td>0.486248</td>\n",
              "    </tr>\n",
              "    <tr>\n",
              "      <th>1657</th>\n",
              "      <td>6.23</td>\n",
              "      <td>1.006520</td>\n",
              "      <td>1.009234</td>\n",
              "      <td>1.003053</td>\n",
              "      <td>0.991986</td>\n",
              "      <td>0.980464</td>\n",
              "      <td>0.972842</td>\n",
              "      <td>0.969364</td>\n",
              "      <td>0.965971</td>\n",
              "      <td>0.959078</td>\n",
              "      <td>...</td>\n",
              "      <td>0.531420</td>\n",
              "      <td>0.539125</td>\n",
              "      <td>0.547548</td>\n",
              "      <td>0.555116</td>\n",
              "      <td>0.561244</td>\n",
              "      <td>0.567062</td>\n",
              "      <td>0.573137</td>\n",
              "      <td>0.579240</td>\n",
              "      <td>0.585544</td>\n",
              "      <td>0.590551</td>\n",
              "    </tr>\n",
              "    <tr>\n",
              "      <th>2949</th>\n",
              "      <td>5.92</td>\n",
              "      <td>0.998392</td>\n",
              "      <td>1.004379</td>\n",
              "      <td>1.005078</td>\n",
              "      <td>1.003015</td>\n",
              "      <td>1.000163</td>\n",
              "      <td>0.998043</td>\n",
              "      <td>0.996755</td>\n",
              "      <td>0.995087</td>\n",
              "      <td>0.990624</td>\n",
              "      <td>...</td>\n",
              "      <td>0.520307</td>\n",
              "      <td>0.526907</td>\n",
              "      <td>0.534269</td>\n",
              "      <td>0.541067</td>\n",
              "      <td>0.546824</td>\n",
              "      <td>0.552379</td>\n",
              "      <td>0.558413</td>\n",
              "      <td>0.564361</td>\n",
              "      <td>0.570288</td>\n",
              "      <td>0.575134</td>\n",
              "    </tr>\n",
              "    <tr>\n",
              "      <th>2832</th>\n",
              "      <td>5.10</td>\n",
              "      <td>1.017225</td>\n",
              "      <td>1.023955</td>\n",
              "      <td>1.025025</td>\n",
              "      <td>1.023356</td>\n",
              "      <td>1.021516</td>\n",
              "      <td>1.020933</td>\n",
              "      <td>1.021048</td>\n",
              "      <td>1.019757</td>\n",
              "      <td>1.014838</td>\n",
              "      <td>...</td>\n",
              "      <td>0.489475</td>\n",
              "      <td>0.495494</td>\n",
              "      <td>0.502497</td>\n",
              "      <td>0.509004</td>\n",
              "      <td>0.514315</td>\n",
              "      <td>0.519431</td>\n",
              "      <td>0.524900</td>\n",
              "      <td>0.530589</td>\n",
              "      <td>0.536402</td>\n",
              "      <td>0.540383</td>\n",
              "    </tr>\n",
              "    <tr>\n",
              "      <th>2657</th>\n",
              "      <td>5.10</td>\n",
              "      <td>1.017225</td>\n",
              "      <td>1.023955</td>\n",
              "      <td>1.025025</td>\n",
              "      <td>1.023356</td>\n",
              "      <td>1.021516</td>\n",
              "      <td>1.020933</td>\n",
              "      <td>1.021048</td>\n",
              "      <td>1.019757</td>\n",
              "      <td>1.014838</td>\n",
              "      <td>...</td>\n",
              "      <td>0.489475</td>\n",
              "      <td>0.495494</td>\n",
              "      <td>0.502497</td>\n",
              "      <td>0.509004</td>\n",
              "      <td>0.514315</td>\n",
              "      <td>0.519431</td>\n",
              "      <td>0.524900</td>\n",
              "      <td>0.530589</td>\n",
              "      <td>0.536402</td>\n",
              "      <td>0.540383</td>\n",
              "    </tr>\n",
              "    <tr>\n",
              "      <th>6074</th>\n",
              "      <td>5.10</td>\n",
              "      <td>1.017225</td>\n",
              "      <td>1.023955</td>\n",
              "      <td>1.025025</td>\n",
              "      <td>1.023356</td>\n",
              "      <td>1.021516</td>\n",
              "      <td>1.020933</td>\n",
              "      <td>1.021048</td>\n",
              "      <td>1.019757</td>\n",
              "      <td>1.014838</td>\n",
              "      <td>...</td>\n",
              "      <td>0.489475</td>\n",
              "      <td>0.495494</td>\n",
              "      <td>0.502497</td>\n",
              "      <td>0.509004</td>\n",
              "      <td>0.514315</td>\n",
              "      <td>0.519431</td>\n",
              "      <td>0.524900</td>\n",
              "      <td>0.530589</td>\n",
              "      <td>0.536402</td>\n",
              "      <td>0.540383</td>\n",
              "    </tr>\n",
              "    <tr>\n",
              "      <th>2866</th>\n",
              "      <td>6.47</td>\n",
              "      <td>0.854969</td>\n",
              "      <td>0.857798</td>\n",
              "      <td>0.855824</td>\n",
              "      <td>0.851796</td>\n",
              "      <td>0.848245</td>\n",
              "      <td>0.846773</td>\n",
              "      <td>0.846468</td>\n",
              "      <td>0.845294</td>\n",
              "      <td>0.841347</td>\n",
              "      <td>...</td>\n",
              "      <td>0.469865</td>\n",
              "      <td>0.474824</td>\n",
              "      <td>0.480263</td>\n",
              "      <td>0.484463</td>\n",
              "      <td>0.486855</td>\n",
              "      <td>0.488647</td>\n",
              "      <td>0.490829</td>\n",
              "      <td>0.493268</td>\n",
              "      <td>0.496381</td>\n",
              "      <td>0.498196</td>\n",
              "    </tr>\n",
              "    <tr>\n",
              "      <th>2218</th>\n",
              "      <td>5.14</td>\n",
              "      <td>0.903243</td>\n",
              "      <td>0.906630</td>\n",
              "      <td>0.903303</td>\n",
              "      <td>0.896082</td>\n",
              "      <td>0.888785</td>\n",
              "      <td>0.884232</td>\n",
              "      <td>0.882331</td>\n",
              "      <td>0.879850</td>\n",
              "      <td>0.873491</td>\n",
              "      <td>...</td>\n",
              "      <td>0.447194</td>\n",
              "      <td>0.452886</td>\n",
              "      <td>0.459539</td>\n",
              "      <td>0.465074</td>\n",
              "      <td>0.468335</td>\n",
              "      <td>0.470857</td>\n",
              "      <td>0.473668</td>\n",
              "      <td>0.477584</td>\n",
              "      <td>0.482437</td>\n",
              "      <td>0.485300</td>\n",
              "    </tr>\n",
              "    <tr>\n",
              "      <th>3357</th>\n",
              "      <td>5.50</td>\n",
              "      <td>1.023203</td>\n",
              "      <td>1.033149</td>\n",
              "      <td>1.035952</td>\n",
              "      <td>1.037741</td>\n",
              "      <td>1.040631</td>\n",
              "      <td>1.047011</td>\n",
              "      <td>1.053485</td>\n",
              "      <td>1.055994</td>\n",
              "      <td>1.051175</td>\n",
              "      <td>...</td>\n",
              "      <td>0.452233</td>\n",
              "      <td>0.459727</td>\n",
              "      <td>0.469473</td>\n",
              "      <td>0.478109</td>\n",
              "      <td>0.483503</td>\n",
              "      <td>0.488431</td>\n",
              "      <td>0.494558</td>\n",
              "      <td>0.501973</td>\n",
              "      <td>0.510266</td>\n",
              "      <td>0.515220</td>\n",
              "    </tr>\n",
              "  </tbody>\n",
              "</table>\n",
              "<p>10 rows × 247 columns</p>\n",
              "</div>\n",
              "      <button class=\"colab-df-convert\" onclick=\"convertToInteractive('df-76925328-cd6d-45cd-94d4-71668db572ed')\"\n",
              "              title=\"Convert this dataframe to an interactive table.\"\n",
              "              style=\"display:none;\">\n",
              "        \n",
              "  <svg xmlns=\"http://www.w3.org/2000/svg\" height=\"24px\"viewBox=\"0 0 24 24\"\n",
              "       width=\"24px\">\n",
              "    <path d=\"M0 0h24v24H0V0z\" fill=\"none\"/>\n",
              "    <path d=\"M18.56 5.44l.94 2.06.94-2.06 2.06-.94-2.06-.94-.94-2.06-.94 2.06-2.06.94zm-11 1L8.5 8.5l.94-2.06 2.06-.94-2.06-.94L8.5 2.5l-.94 2.06-2.06.94zm10 10l.94 2.06.94-2.06 2.06-.94-2.06-.94-.94-2.06-.94 2.06-2.06.94z\"/><path d=\"M17.41 7.96l-1.37-1.37c-.4-.4-.92-.59-1.43-.59-.52 0-1.04.2-1.43.59L10.3 9.45l-7.72 7.72c-.78.78-.78 2.05 0 2.83L4 21.41c.39.39.9.59 1.41.59.51 0 1.02-.2 1.41-.59l7.78-7.78 2.81-2.81c.8-.78.8-2.07 0-2.86zM5.41 20L4 18.59l7.72-7.72 1.47 1.35L5.41 20z\"/>\n",
              "  </svg>\n",
              "      </button>\n",
              "      \n",
              "  <style>\n",
              "    .colab-df-container {\n",
              "      display:flex;\n",
              "      flex-wrap:wrap;\n",
              "      gap: 12px;\n",
              "    }\n",
              "\n",
              "    .colab-df-convert {\n",
              "      background-color: #E8F0FE;\n",
              "      border: none;\n",
              "      border-radius: 50%;\n",
              "      cursor: pointer;\n",
              "      display: none;\n",
              "      fill: #1967D2;\n",
              "      height: 32px;\n",
              "      padding: 0 0 0 0;\n",
              "      width: 32px;\n",
              "    }\n",
              "\n",
              "    .colab-df-convert:hover {\n",
              "      background-color: #E2EBFA;\n",
              "      box-shadow: 0px 1px 2px rgba(60, 64, 67, 0.3), 0px 1px 3px 1px rgba(60, 64, 67, 0.15);\n",
              "      fill: #174EA6;\n",
              "    }\n",
              "\n",
              "    [theme=dark] .colab-df-convert {\n",
              "      background-color: #3B4455;\n",
              "      fill: #D2E3FC;\n",
              "    }\n",
              "\n",
              "    [theme=dark] .colab-df-convert:hover {\n",
              "      background-color: #434B5C;\n",
              "      box-shadow: 0px 1px 3px 1px rgba(0, 0, 0, 0.15);\n",
              "      filter: drop-shadow(0px 1px 2px rgba(0, 0, 0, 0.3));\n",
              "      fill: #FFFFFF;\n",
              "    }\n",
              "  </style>\n",
              "\n",
              "      <script>\n",
              "        const buttonEl =\n",
              "          document.querySelector('#df-76925328-cd6d-45cd-94d4-71668db572ed button.colab-df-convert');\n",
              "        buttonEl.style.display =\n",
              "          google.colab.kernel.accessAllowed ? 'block' : 'none';\n",
              "\n",
              "        async function convertToInteractive(key) {\n",
              "          const element = document.querySelector('#df-76925328-cd6d-45cd-94d4-71668db572ed');\n",
              "          const dataTable =\n",
              "            await google.colab.kernel.invokeFunction('convertToInteractive',\n",
              "                                                     [key], {});\n",
              "          if (!dataTable) return;\n",
              "\n",
              "          const docLinkHtml = 'Like what you see? Visit the ' +\n",
              "            '<a target=\"_blank\" href=https://colab.research.google.com/notebooks/data_table.ipynb>data table notebook</a>'\n",
              "            + ' to learn more about interactive tables.';\n",
              "          element.innerHTML = '';\n",
              "          dataTable['output_type'] = 'display_data';\n",
              "          await google.colab.output.renderOutput(dataTable, element);\n",
              "          const docLink = document.createElement('div');\n",
              "          docLink.innerHTML = docLinkHtml;\n",
              "          element.appendChild(docLink);\n",
              "        }\n",
              "      </script>\n",
              "    </div>\n",
              "  </div>\n",
              "  "
            ]
          },
          "metadata": {},
          "execution_count": 15
        }
      ]
    },
    {
      "cell_type": "code",
      "source": [
        "print(si_ph.shape)"
      ],
      "metadata": {
        "colab": {
          "base_uri": "https://localhost:8080/"
        },
        "id": "WIKL7uRGdaWF",
        "outputId": "e4891b8b-e152-4cb0-f157-4cc23ae8714a"
      },
      "execution_count": null,
      "outputs": [
        {
          "output_type": "stream",
          "name": "stdout",
          "text": [
            "(6178, 247)\n"
          ]
        }
      ]
    },
    {
      "cell_type": "markdown",
      "source": [
        "##**pH SVM -> SVR**"
      ],
      "metadata": {
        "id": "SuZOWCgQPWiX"
      }
    },
    {
      "cell_type": "markdown",
      "source": [
        "####Normalización"
      ],
      "metadata": {
        "id": "SWNnoSZMPk-d"
      }
    },
    {
      "cell_type": "code",
      "source": [
        "from sklearn.model_selection import train_test_split\n",
        "from sklearn.preprocessing import StandardScaler\n",
        "from sklearn.model_selection import cross_val_score\n",
        "from sklearn.svm import SVR"
      ],
      "metadata": {
        "id": "-guZlm8QPVi_"
      },
      "execution_count": null,
      "outputs": []
    },
    {
      "cell_type": "code",
      "source": [
        "X= na_ph.iloc[:, 1:]\n",
        "Y= na_ph.iloc[:, 0]\n",
        "X, X_test, Y, Y_test= train_test_split(X, Y,test_size=0.1, random_state=1)\n",
        "scaler = StandardScaler()\n",
        "scaler.fit(X)\n",
        "Xn = scaler.transform(X)\n",
        "scaler = StandardScaler()\n",
        "scaler.fit(X_test)\n",
        "Xn_test = scaler.transform(X_test)"
      ],
      "metadata": {
        "id": "y7Nqd3cxPsx3"
      },
      "execution_count": null,
      "outputs": []
    },
    {
      "cell_type": "code",
      "source": [
        "Y = np.array([float(element[1:]) if isinstance(element, str) and element.startswith('<') else float(element) for element in Y.astype(str)])"
      ],
      "metadata": {
        "id": "tiEgGD6vPx8G"
      },
      "execution_count": null,
      "outputs": []
    },
    {
      "cell_type": "code",
      "source": [
        "#CrossVal para datos sin normalizar\n",
        "SVM = SVR()\n",
        "scores= cross_val_score(SVM, X, Y, cv=5)\n",
        "print(np.mean(scores))"
      ],
      "metadata": {
        "colab": {
          "base_uri": "https://localhost:8080/"
        },
        "id": "0HAs86pPP0Wd",
        "outputId": "acb3b46a-4dac-4089-ceb7-ae6ed340dee7"
      },
      "execution_count": null,
      "outputs": [
        {
          "output_type": "stream",
          "name": "stdout",
          "text": [
            "0.532954737111417\n"
          ]
        }
      ]
    },
    {
      "cell_type": "code",
      "source": [
        "#CrossVal Normalizar\n",
        "SVM = SVR()\n",
        "scores= cross_val_score(SVM, Xn, Y, cv=5)\n",
        "print(np.mean(scores))"
      ],
      "metadata": {
        "colab": {
          "base_uri": "https://localhost:8080/"
        },
        "id": "CgrLr4fdP1BH",
        "outputId": "245c4bf5-fbbb-4cee-808d-6890a21570cf"
      },
      "execution_count": null,
      "outputs": [
        {
          "output_type": "stream",
          "name": "stdout",
          "text": [
            "0.5768677676962317\n"
          ]
        }
      ]
    },
    {
      "cell_type": "markdown",
      "source": [
        "###CrossVal para PCA"
      ],
      "metadata": {
        "id": "N8flog0iP_6B"
      }
    },
    {
      "cell_type": "code",
      "source": [
        "from sklearn.decomposition import PCA\n",
        "\n",
        "componentes=[0.99, 0.999, 0.9999, 0.99999, 0.999999]\n",
        "scor=[]\n",
        "\n",
        "for i in range (0, 5):\n",
        "  pca=PCA(n_components=componentes[i], svd_solver='full')\n",
        "  Xn_PCA=pca.fit_transform(Xn)\n",
        "  SVM=SVR()\n",
        "  scor.append(cross_val_score(SVM, Xn_PCA, Y, cv=5))\n",
        "\n",
        "#Se prueba PCA con el total de componentes (246)\n",
        "pca=PCA(n_components=246)\n",
        "Xn_pca=pca.fit_transform(Xn)\n",
        "SVM=SVR()\n",
        "scor.append(cross_val_score(SVM, Xn_PCA, Y, cv=5))"
      ],
      "metadata": {
        "id": "POuct-f3QDwc"
      },
      "execution_count": null,
      "outputs": []
    },
    {
      "cell_type": "code",
      "source": [
        "import matplotlib.pyplot as plt\n",
        "list_var=[0.99, 0.999, 0.9999, 0.99999, 0.999999, '100%']\n",
        "plt.figure(figsize=(4, 3))\n",
        "plt.plot(list_var, scor)\n",
        "plt.title(\"Cross val para varianza explicada\")\n",
        "plt.xlabel(\"Varianza explicada\")\n",
        "plt.xticks(rotation=90)\n",
        "plt.ylabel(\"R2\")\n",
        "plt.show()"
      ],
      "metadata": {
        "colab": {
          "base_uri": "https://localhost:8080/",
          "height": 385
        },
        "id": "kiBCg_tsQLGn",
        "outputId": "8a608692-2063-4d3a-ca4d-2e58a5dae67c"
      },
      "execution_count": null,
      "outputs": [
        {
          "output_type": "display_data",
          "data": {
            "text/plain": [
              "<Figure size 400x300 with 1 Axes>"
            ],
            "image/png": "[encoded data removed]"
          },
          "metadata": {}
        }
      ]
    },
    {
      "cell_type": "code",
      "source": [
        "#Me quedo con esta pca\n",
        "pca = PCA(n_components=246)\n",
        "Xn_pca= pca.fit_transform(Xn)\n",
        "SVM = SVR().fit(Xn_pca,Y)\n",
        "print(np.mean(cross_val_score(SVM, Xn_pca, Y, cv=5)))"
      ],
      "metadata": {
        "colab": {
          "base_uri": "https://localhost:8080/"
        },
        "id": "QO6Pu4gEaWzi",
        "outputId": "8f58eda1-9ee6-43b9-8a0d-1d93831beba5"
      },
      "execution_count": null,
      "outputs": [
        {
          "output_type": "stream",
          "name": "stdout",
          "text": [
            "0.5768640848204306\n"
          ]
        }
      ]
    },
    {
      "cell_type": "markdown",
      "source": [
        "###Comprobar Hiperparamteros"
      ],
      "metadata": {
        "id": "RVR7OzduQNhX"
      }
    },
    {
      "cell_type": "markdown",
      "source": [
        "###Kernel"
      ],
      "metadata": {
        "id": "du2cUlyhQm1N"
      }
    },
    {
      "cell_type": "code",
      "source": [
        "import matplotlib.pyplot as plt\n",
        "Lista_kernel= ['linear', 'poly', 'sigmoid', 'rbf']\n",
        "score_list_fun=[]\n",
        "lista_intentos=[]\n",
        "for i in range(0,4):\n",
        "\n",
        "    SVM = SVR(kernel = Lista_kernel[i])\n",
        "    scores = cross_val_score(SVM, Xn_pca, Y, cv=5)\n",
        "    score_list_fun.append(np.mean(np.array(scores)))\n",
        "    lista_intentos.append(str(Lista_kernel[i]))"
      ],
      "metadata": {
        "id": "0IGYyC8HQRMP"
      },
      "execution_count": null,
      "outputs": []
    },
    {
      "cell_type": "code",
      "source": [
        "print(lista_intentos[np.argmax(score_list_fun)], \":\", score_list_fun[np.argmax(score_list_fun)])\n",
        "plt.figure(figsize=(4,3))\n",
        "plt.plot(lista_intentos, score_list_fun)\n",
        "plt.xticks(rotation='vertical')\n",
        "plt.title(\"CrossVal para kernel\")\n",
        "plt.show() "
      ],
      "metadata": {
        "colab": {
          "base_uri": "https://localhost:8080/",
          "height": 371
        },
        "id": "G_U4SwGbQjFe",
        "outputId": "604a9a43-b17b-4891-a52b-2eb2b23ed912"
      },
      "execution_count": null,
      "outputs": [
        {
          "output_type": "stream",
          "name": "stdout",
          "text": [
            "linear : 0.6377461121756394\n"
          ]
        },
        {
          "output_type": "display_data",
          "data": {
            "text/plain": [
              "<Figure size 400x300 with 1 Axes>"
            ],
            "image/png": "[encoded data removed]"
          },
          "metadata": {}
        }
      ]
    },
    {
      "cell_type": "markdown",
      "source": [
        "###Gamma"
      ],
      "metadata": {
        "id": "zkhCiLUDQpkn"
      }
    },
    {
      "cell_type": "code",
      "source": [
        "Lista_gamma=[0.1, 1, 100, 'auto']\n",
        "score_list_gamma = []\n",
        "lista_intentos_gamma=[]\n",
        "\n",
        "for i in range(0, 4):\n",
        "  SVM = SVR(kernel = 'linear', gamma=Lista_gamma[i])\n",
        "  scores = cross_val_score(SVM, Xn_PCA, Y, cv=5)\n",
        "  score_list_gamma.append(np.mean(np.array(scores)))\n",
        "  lista_intentos_gamma.append(str(Lista_gamma[i]))"
      ],
      "metadata": {
        "id": "oCLHZYC4QuIX"
      },
      "execution_count": null,
      "outputs": []
    },
    {
      "cell_type": "code",
      "source": [
        "print(lista_intentos_gamma[np.argmax(score_list_gamma)], \":\", score_list_gamma[np.argmax(score_list_gamma)])\n",
        "plt.figure(figsize=(4,3))\n",
        "plt.plot(lista_intentos_gamma, score_list_gamma)\n",
        "plt.xticks(rotation='vertical')\n",
        "plt.title(\"CrossVal por gamma\")\n",
        "plt.show() "
      ],
      "metadata": {
        "colab": {
          "base_uri": "https://localhost:8080/",
          "height": 348
        },
        "id": "DYvGwUqGQxVI",
        "outputId": "ee7d3f86-5132-40d0-9d9e-5a81994e5d74"
      },
      "execution_count": null,
      "outputs": [
        {
          "output_type": "stream",
          "name": "stdout",
          "text": [
            "0.1 : 0.6341431413324564\n"
          ]
        },
        {
          "output_type": "display_data",
          "data": {
            "text/plain": [
              "<Figure size 400x300 with 1 Axes>"
            ],
            "image/png": "[encoded data removed]"
          },
          "metadata": {}
        }
      ]
    },
    {
      "cell_type": "code",
      "source": [
        "SVM=SVR(kernel=\"linear\", gamma=0.1).fit(Xn_pca, Y)"
      ],
      "metadata": {
        "id": "aE3FyiAAQ1cQ"
      },
      "execution_count": null,
      "outputs": []
    },
    {
      "cell_type": "markdown",
      "source": [
        "###Guardar"
      ],
      "metadata": {
        "id": "gVvNPiqKQ3V4"
      }
    },
    {
      "cell_type": "code",
      "source": [
        "import pickle \n",
        "with open('modelo_SVM_ph.pk1', 'wb') as file:\n",
        "  pickle.dump(SVM, file)\n",
        "with open('scaler_SVM_ph.pk1', 'wb') as file:\n",
        "  pickle.dump(scaler, file)\n",
        "with open('pca_SVM_ph.pk1', 'wb') as file:\n",
        "  pickle.dump(pca, file)"
      ],
      "metadata": {
        "id": "m18VyPBiQ6zw"
      },
      "execution_count": null,
      "outputs": []
    },
    {
      "cell_type": "markdown",
      "source": [
        "###Cargar"
      ],
      "metadata": {
        "id": "HAl3KtjJRBnj"
      }
    },
    {
      "cell_type": "code",
      "source": [
        "with open('modelo_SVM_ph.pk1', 'rb') as file:\n",
        "    SVM = pickle.load(file)\n",
        "with open('scaler_SVM_ph.pk1', 'rb') as file:\n",
        "    scaler = pickle.load(file)\n",
        "with open('pca_SVM_ph.pk1', 'rb') as file:\n",
        "    pca = pickle.load(file)"
      ],
      "metadata": {
        "id": "UYLmheXzQ90O"
      },
      "execution_count": null,
      "outputs": []
    },
    {
      "cell_type": "markdown",
      "source": [
        "###Evaluar"
      ],
      "metadata": {
        "id": "NUaKYMFoRD1l"
      }
    },
    {
      "cell_type": "code",
      "source": [
        "X_hold_ev=scaler.transform(X_test)\n",
        "X_hold_ev=pca.transform(X_hold_ev)\n",
        "print(SVM.score(X_hold_ev, Y_test))"
      ],
      "metadata": {
        "colab": {
          "base_uri": "https://localhost:8080/"
        },
        "id": "PhwufyziRAIJ",
        "outputId": "36580ff2-df24-42c1-d4e1-d84955b2b6fe"
      },
      "execution_count": null,
      "outputs": [
        {
          "output_type": "stream",
          "name": "stdout",
          "text": [
            "0.5722062709951737\n"
          ]
        }
      ]
    },
    {
      "cell_type": "markdown",
      "source": [
        "##**pH ANN**"
      ],
      "metadata": {
        "id": "DWy29L13xWiQ"
      }
    },
    {
      "cell_type": "markdown",
      "source": [
        "####**Probar Normalización**\n",
        "R2:\n",
        ">sin normalizar: 0.457\n",
        "\n",
        ">normalizado: 0.561"
      ],
      "metadata": {
        "id": "mX6HEVh2xOHN"
      }
    },
    {
      "cell_type": "code",
      "source": [
        "from sklearn.neural_network import MLPRegressor\n",
        "from sklearn.model_selection import train_test_split\n",
        "from sklearn.preprocessing import StandardScaler\n",
        "from sklearn.model_selection import cross_val_score\n",
        "y = na_ph.iloc[:, 0]\n",
        "X = na_ph.iloc[:, 1:]\n",
        "X, X_hold, y, y_hold = train_test_split(X, y,test_size=0.1, random_state=1)\n",
        "scaler = StandardScaler()\n",
        "scaler.fit(X)\n",
        "Xn = scaler.transform(X)\n",
        "scaler = StandardScaler()\n",
        "scaler.fit(X_hold)\n",
        "Xn_hold = scaler.transform(X_hold)"
      ],
      "metadata": {
        "id": "d81f5ddTxeU6"
      },
      "execution_count": null,
      "outputs": []
    },
    {
      "cell_type": "code",
      "source": [
        "#Hay DOS pH que dicen <3.8, eliminar el <\n",
        "y = np.array([float(element[1:]) if isinstance(element, str) and element.startswith('<') else float(element) for element in y.astype(str)])"
      ],
      "metadata": {
        "id": "2m446bLnfsJg"
      },
      "execution_count": null,
      "outputs": []
    },
    {
      "cell_type": "code",
      "source": [
        "#CrossVal para datos sin normalizar\n",
        "regAnn = MLPRegressor(random_state=0, max_iter=500)\n",
        "scores = cross_val_score(regAnn, X, y, cv=5)\n",
        "print(np.mean(scores))"
      ],
      "metadata": {
        "id": "derIwXYCxgMA",
        "colab": {
          "base_uri": "https://localhost:8080/"
        },
        "outputId": "beb7c459-d943-4524-b343-22e45d735bcd"
      },
      "execution_count": null,
      "outputs": [
        {
          "output_type": "stream",
          "name": "stdout",
          "text": [
            "0.45716162001539973\n"
          ]
        }
      ]
    },
    {
      "cell_type": "code",
      "source": [
        "#CrossVal para datos normalizados\n",
        "regAnn = MLPRegressor(random_state=0, max_iter=500)\n",
        "scores = cross_val_score(regAnn, Xn, y, cv=5)\n",
        "print(np.mean(scores))"
      ],
      "metadata": {
        "id": "jmjL7xsLxi8Y",
        "colab": {
          "base_uri": "https://localhost:8080/"
        },
        "outputId": "adb80571-b8a0-4cf9-f002-00bf35b6cb28"
      },
      "execution_count": null,
      "outputs": [
        {
          "output_type": "stream",
          "name": "stdout",
          "text": [
            "0.5607078889764905\n"
          ]
        }
      ]
    },
    {
      "cell_type": "markdown",
      "source": [
        "###**CrossVal para PCA**\n",
        "R2=0.787\n",
        "\n",
        "Mejor usar Normalizados con PCA con los 246 componentes (por alguna razón es mejor la PCA conservando todos los componentes que no hacer la PCA)"
      ],
      "metadata": {
        "id": "SA5lHTnzzd6u"
      }
    },
    {
      "cell_type": "code",
      "source": [
        "from sklearn.decomposition import PCA"
      ],
      "metadata": {
        "id": "kWjkrSLEhopA"
      },
      "execution_count": null,
      "outputs": []
    },
    {
      "cell_type": "code",
      "source": [
        "#Estamos manejando inicialmente casi 240 caracteristicas, así que podemos tener igual un porcentaje alto en la pca\n",
        "var = [0.99, 0.999, 0.9999, 0.99999, 0.999999]\n",
        "scor = []\n",
        "for i in range(0,5):\n",
        "  pca = PCA(n_components=var[i], svd_solver='full')\n",
        "  Xn_pca= pca.fit_transform(Xn)\n",
        "  regAnn = MLPRegressor(random_state=1, max_iter=500)\n",
        "  scor.append(np.mean(cross_val_score(regAnn, Xn_pca, y, cv=5)))\n",
        "\n",
        "#PCA con todos los componentes\n",
        "pca = PCA(n_components=246)\n",
        "Xn_pca= pca.fit_transform(Xn)\n",
        "regAnn = MLPRegressor(random_state=1, max_iter=500)\n",
        "scor.append(np.mean(cross_val_score(regAnn, Xn_pca, y, cv=5)))"
      ],
      "metadata": {
        "id": "hVxU04qxq4iw"
      },
      "execution_count": null,
      "outputs": []
    },
    {
      "cell_type": "code",
      "source": [
        "import matplotlib.pyplot as plt\n",
        "list_var = [0.99, 0.999, 0.9999, 0.99999, 0.999999, '100%']\n",
        "plt.figure(figsize=(4,3))\n",
        "plt.plot(list_var, scor)\n",
        "plt.title(\"Cross val para varianza explicada\")\n",
        "plt.xlabel(\"Varianza explicada\")\n",
        "plt.xticks(rotation=90)\n",
        "plt.ylabel(\"R2\")\n",
        "plt.show()"
      ],
      "metadata": {
        "colab": {
          "base_uri": "https://localhost:8080/"
        },
        "id": "oyX_SO3_r054",
        "outputId": "83e36ec5-7fce-4838-fcc9-abb6ce2ded0b"
      },
      "execution_count": null,
      "outputs": [
        {
          "output_type": "display_data",
          "data": {
            "text/plain": [
              "<Figure size 400x300 with 1 Axes>"
            ],
            "image/png": "[encoded data removed]"
          },
          "metadata": {}
        }
      ]
    },
    {
      "cell_type": "code",
      "source": [
        "#ME QUEDO CON ESTA PCA:\n",
        "pca = PCA(n_components=246)\n",
        "Xn_pca= pca.fit_transform(Xn)\n",
        "regAnn = MLPRegressor(random_state=1, max_iter=500).fit(Xn_pca,y)\n",
        "print(np.mean(cross_val_score(regAnn, Xn_pca, y, cv=5)))"
      ],
      "metadata": {
        "colab": {
          "base_uri": "https://localhost:8080/"
        },
        "id": "8Z_fC-BHzWqJ",
        "outputId": "85ec207d-bd12-4f95-fb13-0ebc4749f569"
      },
      "execution_count": null,
      "outputs": [
        {
          "output_type": "stream",
          "name": "stdout",
          "text": [
            "0.7872646870518345\n"
          ]
        }
      ]
    },
    {
      "cell_type": "markdown",
      "source": [
        "###**Iteracion de hiperparametros**\n",
        "Mejor resultado: Normalizado + PCA + ReLU + Adam + Alpha = 0.0001 (default)"
      ],
      "metadata": {
        "id": "Hu3Qubtg-euM"
      }
    },
    {
      "cell_type": "code",
      "source": [
        "w#PROBAR COMBINACIONES SOLVER Y FUNCION DE ACTIVACIÓN\n",
        "f_act = ['identity', 'logistic', 'tanh', 'relu']\n",
        "solv= ['lbfgs', 'sgd', 'adam']\n",
        "lista_intentos =[]\n",
        "lista_scores_total = []\n",
        "for i in range(0,4):#i: activacion\n",
        "  for j in range(0,3):#j: solver\n",
        "    regAnn = MLPRegressor(activation= f_act[i], solver=solv[j], random_state=1, max_iter=2000)\n",
        "    scores = cross_val_score(regAnn, Xn_pca, y, cv=5)\n",
        "    lista_scores_total.append(np.mean(np.array(scores)))\n",
        "    lista_intentos.append(str(f_act[i])+ \" \"+str(solv[j]))\n",
        "\n",
        "print(lista_intentos[np.argmax(lista_scores_total)], \":\", lista_scores_total[np.argmax(lista_scores_total)])\n",
        "\n",
        "plt.figure(figsize=(4,3))\n",
        "plt.plot(lista_intentos, lista_scores_total)\n",
        "plt.xticks(rotation='vertical')\n",
        "plt.title(\"CrossVal por combinaciones solver y funcion de activacion\")\n",
        "plt.show() #Mejor es relu+lbfgs"
      ],
      "metadata": {
        "id": "xmGYSi6DZwLx"
      },
      "execution_count": null,
      "outputs": []
    },
    {
      "cell_type": "code",
      "source": [
        "print(lista_intentos[np.argmax(lista_scores_total)], \":\", lista_scores_total[np.argmax(lista_scores_total)])\n",
        "\n",
        "plt.figure(figsize=(4,3))\n",
        "plt.plot(lista_intentos, lista_scores_total)\n",
        "plt.xticks(rotation='vertical')\n",
        "plt.title(\"CrossVal por combinaciones solver y funcion de activacion\")\n",
        "plt.show() #Mejor es relu+lbfgs"
      ],
      "metadata": {
        "colab": {
          "base_uri": "https://localhost:8080/",
          "height": 414
        },
        "id": "W0rytmdi7w_D",
        "outputId": "7c6b389f-da7c-4d05-d8b9-cb026778318f"
      },
      "execution_count": null,
      "outputs": [
        {
          "output_type": "stream",
          "name": "stdout",
          "text": [
            "relu adam : 0.7872646870518336\n"
          ]
        },
        {
          "output_type": "display_data",
          "data": {
            "text/plain": [
              "<Figure size 400x300 with 1 Axes>"
            ],
            "image/png": "[encoded data removed]"
          },
          "metadata": {}
        }
      ]
    },
    {
      "cell_type": "code",
      "source": [
        "import matplotlib.pyplot as plt\n",
        "regul= [0.0001, 0.001, 0.01, 0.1, 1]\n",
        "score_list_reg = []\n",
        "for i in range(0,5):\n",
        "  regAnn = MLPRegressor(activation= 'relu',solver='adam', alpha=regul[i],random_state=1, max_iter=500)\n",
        "  scores = cross_val_score(regAnn, Xn_pca, y, cv=5)\n",
        "  score_list_reg.append(np.mean(scores))\n",
        "\n",
        "plt.figure(figsize=(4,3))\n",
        "plt.plot(regul, score_list_reg)\n",
        "plt.title(\"CrossVal por alpha\")\n",
        "plt.show() #Mejor es 0.0001"
      ],
      "metadata": {
        "id": "Uv_FXztGWRVQ",
        "colab": {
          "base_uri": "https://localhost:8080/",
          "height": 314
        },
        "outputId": "6cc3be09-94dc-4271-8201-d3818f30c836"
      },
      "execution_count": null,
      "outputs": [
        {
          "output_type": "display_data",
          "data": {
            "text/plain": [
              "<Figure size 400x300 with 1 Axes>"
            ],
            "image/png": "[encoded data removed]"
          },
          "metadata": {}
        }
      ]
    },
    {
      "cell_type": "code",
      "source": [
        "#Me quedo con:\n",
        "regAnn = MLPRegressor(activation= 'relu',solver='adam',random_state=1, max_iter=2000).fit(Xn_pca,y)"
      ],
      "metadata": {
        "id": "nfYy4ARP0CPl"
      },
      "execution_count": null,
      "outputs": []
    },
    {
      "cell_type": "markdown",
      "source": [
        "###**Guardar**"
      ],
      "metadata": {
        "id": "FoND6irfB2zA"
      }
    },
    {
      "cell_type": "code",
      "source": [
        "import pickle\n",
        "with open('modelo_ANN_pH.pkl', 'wb') as file:\n",
        "    pickle.dump(regAnn, file) #Fijarse que el modelo, scaler y pca estén ajustados con los parametros decididos\n",
        "\n",
        "with open('scaler_ANN_pH.pkl', 'wb') as file:\n",
        "    pickle.dump(scaler, file)\n",
        "  \n",
        "with open('pca_ANN_pH.pkl', 'wb') as file:\n",
        "    pickle.dump(pca, file)"
      ],
      "metadata": {
        "id": "XwFVekX6B1td"
      },
      "execution_count": null,
      "outputs": []
    },
    {
      "cell_type": "markdown",
      "source": [
        "###**Cargar**"
      ],
      "metadata": {
        "id": "gTavfILQDsUW"
      }
    },
    {
      "cell_type": "code",
      "source": [
        "with open('modelo_ANN_pH.pkl', 'rb') as file:\n",
        "    regAnn = pickle.load(file) #Fijarse que el modelo, scaler y pca estén ajustados con los parametros decididos\n",
        "\n",
        "with open('scaler_ANN_pH.pkl', 'rb') as file:\n",
        "    scaler = pickle.load(file)\n",
        "  \n",
        "with open('pca_ANN_pH.pkl', 'rb') as file:\n",
        "    pca = pickle.load(file)"
      ],
      "metadata": {
        "id": "qrV8ZFbiDlZp"
      },
      "execution_count": null,
      "outputs": []
    },
    {
      "cell_type": "markdown",
      "source": [
        "###**Evaluación**\n",
        "Con el X_hold --> R2=0.7685"
      ],
      "metadata": {
        "id": "kstW7iNh-0ER"
      }
    },
    {
      "cell_type": "code",
      "source": [
        "X_hold = scaler.transform(X_hold)\n",
        "X_hold = pca.transform(X_hold)"
      ],
      "metadata": {
        "id": "gUhdIzCi_HLK"
      },
      "execution_count": null,
      "outputs": []
    },
    {
      "cell_type": "code",
      "source": [
        "print(regAnn.score(X_hold, y_hold))"
      ],
      "metadata": {
        "colab": {
          "base_uri": "https://localhost:8080/"
        },
        "id": "I2V0pDGLEl4A",
        "outputId": "13220bb0-d786-466b-9b75-ef36125f58e0"
      },
      "execution_count": null,
      "outputs": [
        {
          "output_type": "stream",
          "name": "stdout",
          "text": [
            "0.7685074636822785\n"
          ]
        }
      ]
    },
    {
      "cell_type": "markdown",
      "source": [
        "##**Aluminio SVM**"
      ],
      "metadata": {
        "id": "pZOm-mglReYg"
      }
    },
    {
      "cell_type": "code",
      "source": [
        "from sklearn.svm import SVR\n",
        "from sklearn.model_selection import train_test_split\n",
        "from sklearn.preprocessing import StandardScaler\n",
        "from sklearn.model_selection import cross_val_score\n",
        "y = na_setAl.iloc[:, 0]\n",
        "X = na_setAl.iloc[:, 1:]\n",
        "X, X_hold, y, y_hold = train_test_split(X, y,test_size=0.1, random_state=1)\n",
        "scaler = StandardScaler()\n",
        "scaler.fit(X)\n",
        "Xn = scaler.transform(X)\n",
        "scaler = StandardScaler()\n",
        "scaler.fit(X_hold)\n",
        "Xn_hold = scaler.transform(X_hold)"
      ],
      "metadata": {
        "id": "44VFZFA6RmVY"
      },
      "execution_count": null,
      "outputs": []
    },
    {
      "cell_type": "code",
      "source": [
        "#CrossVal para datos sin normalizar\n",
        "SVM=SVR()\n",
        "scores=cross_val_score(SVM, X, y, cv=5)\n",
        "print(np.mean(scores))"
      ],
      "metadata": {
        "id": "TGQhgGRrRoLn",
        "colab": {
          "base_uri": "https://localhost:8080/"
        },
        "outputId": "58219aea-094e-43e7-d628-8277d634510c"
      },
      "execution_count": null,
      "outputs": [
        {
          "output_type": "stream",
          "name": "stdout",
          "text": [
            "0.16859787770714868\n"
          ]
        }
      ]
    },
    {
      "cell_type": "code",
      "source": [
        "#CrossVal Normalizar\n",
        "SVM=SVR()\n",
        "scores=cross_val_score(SVM, Xn, y, cv=5)\n",
        "print(np.mean(scores))"
      ],
      "metadata": {
        "id": "d7pHMeWVRp5g",
        "colab": {
          "base_uri": "https://localhost:8080/"
        },
        "outputId": "3a91fac4-a445-4a40-9bf5-2e9bddf71166"
      },
      "execution_count": null,
      "outputs": [
        {
          "output_type": "stream",
          "name": "stdout",
          "text": [
            "0.21368936277233982\n"
          ]
        }
      ]
    },
    {
      "cell_type": "markdown",
      "source": [
        "####**PCA**"
      ],
      "metadata": {
        "id": "tEqe_RSDSL2X"
      }
    },
    {
      "cell_type": "code",
      "source": [
        "from sklearn.decomposition import PCA\n",
        "var = [0.99, 0.999, 0.9999, 0.99999, 0.999999]\n",
        "scor = []\n",
        "for i in range(0,5):\n",
        "  pca = PCA(n_components=var[i], svd_solver='full')\n",
        "  Xn_pca= pca.fit_transform(Xn)\n",
        "  SVM = SVR()\n",
        "  scor.append(np.mean(cross_val_score(SVM, Xn_pca, y, cv=5)))"
      ],
      "metadata": {
        "id": "ia6uM0jmSKe4"
      },
      "execution_count": null,
      "outputs": []
    },
    {
      "cell_type": "code",
      "source": [
        "pca = PCA(n_components=246)\n",
        "Xn_pca= pca.fit_transform(Xn)\n",
        "SVM = SVR().fit(Xn_pca,y)\n",
        "scor.append(np.mean(cross_val_score(SVM, Xn_pca, y, cv=5)))\n",
        "print(np.mean(cross_val_score(SVM, Xn_pca, y, cv=5)))"
      ],
      "metadata": {
        "id": "OwCDSb17STD4",
        "colab": {
          "base_uri": "https://localhost:8080/"
        },
        "outputId": "6d392855-080c-499b-e067-d30544c4c5e6"
      },
      "execution_count": null,
      "outputs": [
        {
          "output_type": "stream",
          "name": "stdout",
          "text": [
            "0.21369568149780366\n"
          ]
        }
      ]
    },
    {
      "cell_type": "code",
      "source": [
        "import matplotlib.pyplot as plt\n",
        "list_var=[0.99, 0.999, 0.9999, 0.99999, 0.999999, '100%']\n",
        "plt.figure(figsize=(4, 3))\n",
        "plt.plot(list_var, scor)\n",
        "plt.title(\"Cross val para varianza explicada\")\n",
        "plt.xlabel(\"Varianza explicada\")\n",
        "plt.xticks(rotation=90)\n",
        "plt.ylabel(\"R2\")\n",
        "plt.show()"
      ],
      "metadata": {
        "id": "AZYLKalgSU6C",
        "colab": {
          "base_uri": "https://localhost:8080/",
          "height": 385
        },
        "outputId": "0c5f438b-8781-44ee-b7b9-ef1826b795cf"
      },
      "execution_count": null,
      "outputs": [
        {
          "output_type": "display_data",
          "data": {
            "text/plain": [
              "<Figure size 400x300 with 1 Axes>"
            ],
            "image/png": "[encoded data removed]"
          },
          "metadata": {}
        }
      ]
    },
    {
      "cell_type": "code",
      "source": [
        "#Me quedo con esta PCA\n",
        "pca = PCA(n_components=246)\n",
        "Xn_pca= pca.fit_transform(Xn)\n",
        "SVM = SVR().fit(Xn_pca,y)\n",
        "print(np.mean(cross_val_score(SVM, Xn_pca, y, cv=5)))"
      ],
      "metadata": {
        "id": "aNzSawG1SWC3",
        "colab": {
          "base_uri": "https://localhost:8080/"
        },
        "outputId": "a2e92d4a-0514-4010-d2f8-38d11e24e84a"
      },
      "execution_count": null,
      "outputs": [
        {
          "output_type": "stream",
          "name": "stdout",
          "text": [
            "0.21369568149780366\n"
          ]
        }
      ]
    },
    {
      "cell_type": "code",
      "source": [
        "Xn_hold_pca=pca.transform(Xn_hold)"
      ],
      "metadata": {
        "id": "adEujkmzSYoI"
      },
      "execution_count": null,
      "outputs": []
    },
    {
      "cell_type": "markdown",
      "source": [
        "###**Comprobar Hiperparametros**"
      ],
      "metadata": {
        "id": "tUHQeNG9SZp5"
      }
    },
    {
      "cell_type": "markdown",
      "source": [
        "####**Kernel**"
      ],
      "metadata": {
        "id": "1b7dlublSinR"
      }
    },
    {
      "cell_type": "code",
      "source": [
        "import matplotlib.pyplot as plt\n",
        "Lista_kernel= ['linear', 'poly', 'sigmoid', 'rbf']\n",
        "score_list_fun=[]\n",
        "lista_intentos=[]\n",
        "for i in range(0,4):\n",
        "\n",
        "    SVM = SVR(kernel = Lista_kernel[i])\n",
        "    scores = cross_val_score(SVM, Xn_pca, y, cv=5)\n",
        "    score_list_fun.append(np.mean(np.array(scores)))\n",
        "    lista_intentos.append(str(Lista_kernel[i]))"
      ],
      "metadata": {
        "id": "FdAtkWSwSckU"
      },
      "execution_count": null,
      "outputs": []
    },
    {
      "cell_type": "code",
      "source": [
        "print(lista_intentos[np.argmax(score_list_fun)], \":\", score_list_fun[np.argmax(score_list_fun)])\n",
        "plt.figure(figsize=(4,3))\n",
        "plt.plot(lista_intentos, score_list_fun)\n",
        "plt.xticks(rotation='vertical')\n",
        "plt.title(\"CrossVal para Kernel\")\n",
        "plt.show() "
      ],
      "metadata": {
        "id": "gLmgaqFSSerd",
        "colab": {
          "base_uri": "https://localhost:8080/",
          "height": 371
        },
        "outputId": "949cfd6b-5e48-4e45-bae6-472b8dfa9cc7"
      },
      "execution_count": null,
      "outputs": [
        {
          "output_type": "stream",
          "name": "stdout",
          "text": [
            "linear : 0.3089437136620314\n"
          ]
        },
        {
          "output_type": "display_data",
          "data": {
            "text/plain": [
              "<Figure size 400x300 with 1 Axes>"
            ],
            "image/png": "[encoded data removed]"
          },
          "metadata": {}
        }
      ]
    },
    {
      "cell_type": "markdown",
      "source": [
        "####**Gamma"
      ],
      "metadata": {
        "id": "lmH4leRfSlGo"
      }
    },
    {
      "cell_type": "code",
      "source": [
        "Lista_gamma=[0.1, 1, 100, 'auto']\n",
        "score_list_gamma = []\n",
        "lista_intentos_gamma=[]\n",
        "\n",
        "for i in range(0, 4):\n",
        "  SVM = SVR(kernel = 'linear', gamma=Lista_gamma[i])\n",
        "  scores = cross_val_score(SVM, Xn_pca, y, cv=5)\n",
        "  score_list_gamma.append(np.mean(np.array(scores)))\n",
        "  lista_intentos_gamma.append(str(Lista_gamma[i]))"
      ],
      "metadata": {
        "id": "InLn7ls3SklM"
      },
      "execution_count": null,
      "outputs": []
    },
    {
      "cell_type": "code",
      "source": [
        "print(lista_intentos_gamma[np.argmax(score_list_gamma)], \":\", score_list_gamma[np.argmax(score_list_gamma)])\n",
        "plt.figure(figsize=(4,3))\n",
        "plt.plot(lista_intentos_gamma, score_list_gamma)\n",
        "plt.xticks(rotation='vertical')\n",
        "plt.title(\"CrossVal por gamma\")\n",
        "plt.show() "
      ],
      "metadata": {
        "id": "00ve-RKOSt3O",
        "colab": {
          "base_uri": "https://localhost:8080/",
          "height": 348
        },
        "outputId": "e9f4d4b9-9294-4909-a3e7-aedcffa9f928"
      },
      "execution_count": null,
      "outputs": [
        {
          "output_type": "stream",
          "name": "stdout",
          "text": [
            "0.1 : 0.3089437136620314\n"
          ]
        },
        {
          "output_type": "display_data",
          "data": {
            "text/plain": [
              "<Figure size 400x300 with 1 Axes>"
            ],
            "image/png": "[encoded data removed]"
          },
          "metadata": {}
        }
      ]
    },
    {
      "cell_type": "code",
      "source": [
        "#me quedo con:\n",
        "\n",
        "SVM=SVR(kernel=\"linear\", C=100, gamma=\"auto\").fit(Xn_pca, y)\n",
        "print(SVM.score(Xn_hold_pca, y_hold))"
      ],
      "metadata": {
        "id": "8pBl8lRASvJw",
        "colab": {
          "base_uri": "https://localhost:8080/"
        },
        "outputId": "e0d9a045-faab-446f-d805-64468d2d430e"
      },
      "execution_count": null,
      "outputs": [
        {
          "output_type": "stream",
          "name": "stdout",
          "text": [
            "0.45447161067731146\n"
          ]
        }
      ]
    },
    {
      "cell_type": "markdown",
      "source": [
        "###Guardar "
      ],
      "metadata": {
        "id": "IOJt4zTzSxcO"
      }
    },
    {
      "cell_type": "code",
      "source": [
        "import pickle \n",
        "with open('modelo_SVM_Al.pk1', 'wb') as file:\n",
        "  pickle.dump(SVM, file)\n",
        "with open('scaler_SVM_Al.pk1', 'wb') as file:\n",
        "  pickle.dump(scaler, file)\n",
        "with open('pca_SVM_Al.pk1', 'wb') as file:\n",
        "  pickle.dump(pca, file)"
      ],
      "metadata": {
        "id": "iOKm7f47TUha"
      },
      "execution_count": null,
      "outputs": []
    },
    {
      "cell_type": "markdown",
      "source": [
        "###Cargar"
      ],
      "metadata": {
        "id": "-UuPozMuTYpd"
      }
    },
    {
      "cell_type": "code",
      "source": [
        "with open('modelo_SVM_Al.pk1', 'rb') as file:\n",
        "    SVM = pickle.load(file)\n",
        "with open('scaler_SVM_Al.pk1', 'rb') as file:\n",
        "    scaler = pickle.load(file)\n",
        "with open('pca_SVM_Al.pk1', 'rb') as file:\n",
        "    pca = pickle.load(file)"
      ],
      "metadata": {
        "id": "rKWXDRs7TVGG"
      },
      "execution_count": null,
      "outputs": []
    },
    {
      "cell_type": "markdown",
      "source": [
        "###Evaluar"
      ],
      "metadata": {
        "id": "r1oM8plYTaJP"
      }
    },
    {
      "cell_type": "code",
      "source": [
        "X_hold_ev=scaler.transform(X_hold)\n",
        "X_hold_ev=pca.transform(X_hold_ev)\n",
        "print(SVM.score(X_hold_ev, y_hold))"
      ],
      "metadata": {
        "id": "3w4RizcLTVdO",
        "colab": {
          "base_uri": "https://localhost:8080/"
        },
        "outputId": "431fce04-6353-403f-84d2-e1d32fe69e81"
      },
      "execution_count": null,
      "outputs": [
        {
          "output_type": "stream",
          "name": "stdout",
          "text": [
            "0.45447161067731146\n"
          ]
        }
      ]
    },
    {
      "cell_type": "markdown",
      "source": [
        "##**ALUMINIO ANN**"
      ],
      "metadata": {
        "id": "bJGQ24zqgbSu"
      }
    },
    {
      "cell_type": "markdown",
      "source": [
        "###**Normalización**\n",
        "R2:\n",
        ">Sin normalizar: 0.205\n",
        "\n",
        "> Normalizado: 0.477"
      ],
      "metadata": {
        "id": "iogU0fXrgiHX"
      }
    },
    {
      "cell_type": "code",
      "source": [
        "from sklearn.neural_network import MLPRegressor\n",
        "from sklearn.model_selection import train_test_split\n",
        "from sklearn.preprocessing import StandardScaler\n",
        "from sklearn.model_selection import cross_val_score\n",
        "y = na_setAl.iloc[:, 0]\n",
        "X = na_setAl.iloc[:, 1:]\n",
        "X, X_hold, y, y_hold = train_test_split(X, y,test_size=0.1, random_state=1)\n",
        "scaler = StandardScaler()\n",
        "scaler.fit(X)\n",
        "Xn = scaler.transform(X)\n",
        "scaler = StandardScaler()\n",
        "scaler.fit(X_hold)\n",
        "Xn_hold = scaler.transform(X_hold)"
      ],
      "metadata": {
        "id": "n__aHJcsghye"
      },
      "execution_count": null,
      "outputs": []
    },
    {
      "cell_type": "code",
      "source": [
        "#CrossVal para datos sin normalizar\n",
        "regAnn = MLPRegressor(random_state=1, max_iter=500)\n",
        "scores = cross_val_score(regAnn, X, y, cv=5)\n",
        "print(np.mean(scores))"
      ],
      "metadata": {
        "colab": {
          "base_uri": "https://localhost:8080/"
        },
        "id": "sfmLmhbyhAQ2",
        "outputId": "890d66b8-51e8-4eab-8081-8f7ea1149146"
      },
      "execution_count": null,
      "outputs": [
        {
          "output_type": "stream",
          "name": "stdout",
          "text": [
            "0.20521040476210722\n"
          ]
        }
      ]
    },
    {
      "cell_type": "code",
      "source": [
        "#CrossVal para datos normalizados\n",
        "regAnn = MLPRegressor(random_state=1, max_iter=500)\n",
        "scores = cross_val_score(regAnn, Xn, y, cv=5)\n",
        "print(np.mean(scores))"
      ],
      "metadata": {
        "colab": {
          "base_uri": "https://localhost:8080/"
        },
        "id": "s3zDxTNZhTFd",
        "outputId": "6d6f89f9-df5c-4de2-e89d-92afea71c53e"
      },
      "execution_count": null,
      "outputs": [
        {
          "output_type": "stream",
          "name": "stdout",
          "text": [
            "0.4772229777236756\n"
          ]
        }
      ]
    },
    {
      "cell_type": "markdown",
      "source": [
        "###**PCA**\n",
        ">Mejor R2: 0.720\n",
        "\n",
        "PCA con todos los componentes sobre datos normalizados"
      ],
      "metadata": {
        "id": "p_ARKW9mhU2A"
      }
    },
    {
      "cell_type": "code",
      "source": [
        "from sklearn.decomposition import PCA\n",
        "#Estamos manejando inicialmente casi 240 caracteristicas, así que podemos tener igual un porcentaje alto en la pca\n",
        "var = [0.99, 0.999, 0.9999, 0.99999, 0.999999]\n",
        "scor = []\n",
        "for i in range(0,5):\n",
        "  pca = PCA(n_components=var[i], svd_solver='full')\n",
        "  Xn_pca= pca.fit_transform(Xn)\n",
        "  regAnn = MLPRegressor(random_state=1, max_iter=2000)\n",
        "  scor.append(np.mean(cross_val_score(regAnn, Xn_pca, y, cv=5)))"
      ],
      "metadata": {
        "id": "E4IaJXzdhXcP"
      },
      "execution_count": null,
      "outputs": []
    },
    {
      "cell_type": "code",
      "source": [
        "pca = PCA(n_components=246)\n",
        "Xn_pca= pca.fit_transform(Xn)\n",
        "regAnn = MLPRegressor(random_state=1, max_iter=2000).fit(Xn_pca,y)\n",
        "scor.append(np.mean(cross_val_score(regAnn, Xn_pca, y, cv=5)))\n",
        "print(np.mean(cross_val_score(regAnn, Xn_pca, y, cv=5)))"
      ],
      "metadata": {
        "colab": {
          "base_uri": "https://localhost:8080/"
        },
        "id": "Cr6r0VuFjOCL",
        "outputId": "d28b8ba7-82f9-4521-bc1a-f560b8fec704"
      },
      "execution_count": null,
      "outputs": [
        {
          "output_type": "stream",
          "name": "stdout",
          "text": [
            "0.7204483078438425\n"
          ]
        }
      ]
    },
    {
      "cell_type": "code",
      "source": [
        "import matplotlib.pyplot as plt\n",
        "list_var = [0.99, 0.999, 0.9999, 0.99999, 0.999999, '100%']\n",
        "plt.figure(figsize=(4,3))\n",
        "plt.plot(list_var, scor)\n",
        "plt.title(\"Cross val para varianza explicada\")\n",
        "plt.xlabel(\"Varianza explicada\")\n",
        "plt.xticks(rotation=90)\n",
        "plt.ylabel(\"R2\")\n",
        "# plt.show()"
      ],
      "metadata": {
        "colab": {
          "base_uri": "https://localhost:8080/",
          "height": 402
        },
        "id": "e6Aoz8p6jmLM",
        "outputId": "7550ca67-60b7-4e1f-c2d1-771d7676917f"
      },
      "execution_count": null,
      "outputs": [
        {
          "output_type": "execute_result",
          "data": {
            "text/plain": [
              "Text(0, 0.5, 'R2')"
            ]
          },
          "metadata": {},
          "execution_count": 60
        },
        {
          "output_type": "display_data",
          "data": {
            "text/plain": [
              "<Figure size 400x300 with 1 Axes>"
            ],
            "image/png": "[encoded data removed]"
          },
          "metadata": {}
        }
      ]
    },
    {
      "cell_type": "code",
      "source": [
        "#ME QUEDO CON ESTA PCA:\n",
        "pca = PCA(n_components=246)\n",
        "Xn_pca= pca.fit_transform(Xn)\n",
        "regAnn = MLPRegressor(random_state=1, max_iter=2000).fit(Xn_pca,y)\n",
        "print(np.mean(cross_val_score(regAnn, Xn_pca, y, cv=5)))"
      ],
      "metadata": {
        "colab": {
          "base_uri": "https://localhost:8080/"
        },
        "id": "FUOEChbVhvzz",
        "outputId": "3621de4b-e7fe-4b2b-c12f-c9675eafa2b5"
      },
      "execution_count": null,
      "outputs": [
        {
          "output_type": "stream",
          "name": "stdout",
          "text": [
            "0.7204483078438425\n"
          ]
        }
      ]
    },
    {
      "cell_type": "code",
      "source": [
        "Xn_hold_pca = pca.transform(Xn_hold)"
      ],
      "metadata": {
        "id": "_UBbzmPryx6i"
      },
      "execution_count": null,
      "outputs": []
    },
    {
      "cell_type": "markdown",
      "source": [
        "###**Iterar hiperparámetros**\n",
        "Mejor resultado: Normalizado + PCA + ReLU + Adam + Alpha = 0.0001 (default)"
      ],
      "metadata": {
        "id": "ZWPOHJM3lSrR"
      }
    },
    {
      "cell_type": "code",
      "source": [
        "#PROBAR COMBINACIONES SOLVER Y FUNCION DE ACTIVACIÓN\n",
        "f_act = ['identity', 'logistic', 'tanh', 'relu']\n",
        "solv= ['lbfgs', 'sgd', 'adam']\n",
        "lista_intentos =[]\n",
        "lista_scores_total = []\n",
        "for i in range(0,4):#i: activacion\n",
        "  for j in range(0,3):#j: solver\n",
        "    regAnn = MLPRegressor(activation= f_act[i], solver=solv[j], random_state=1, max_iter=2000)\n",
        "    scores = cross_val_score(regAnn, Xn_pca, y, cv=5)\n",
        "    lista_scores_total.append(np.mean(np.array(scores)))\n",
        "    lista_intentos.append(str(f_act[i])+ \" \"+str(solv[j]))\n",
        "\n",
        "print(lista_intentos[np.argmax(lista_scores_total)], \":\", lista_scores_total[np.argmax(lista_scores_total)])\n",
        "\n",
        "plt.figure(figsize=(4,3))\n",
        "plt.plot(lista_intentos, lista_scores_total)\n",
        "plt.xticks(rotation='vertical')\n",
        "plt.title(\"CrossVal por combinaciones solver y funcion de activacion\")\n",
        "plt.show() "
      ],
      "metadata": {
        "id": "HXdIH1uglSLN"
      },
      "execution_count": null,
      "outputs": []
    },
    {
      "cell_type": "code",
      "source": [
        "print(lista_intentos[np.argmax(lista_scores_total)], \":\", lista_scores_total[np.argmax(lista_scores_total)])\n",
        "\n",
        "plt.figure(figsize=(4,3))\n",
        "plt.plot(lista_intentos, lista_scores_total)\n",
        "plt.xticks(rotation='vertical')\n",
        "plt.title(\"CrossVal por combinaciones solver y funcion de activacion\")\n",
        "plt.show() "
      ],
      "metadata": {
        "colab": {
          "base_uri": "https://localhost:8080/",
          "height": 414
        },
        "id": "buK1Z_7wqsRm",
        "outputId": "a6633a90-db08-409e-b099-4a2b238419ac"
      },
      "execution_count": null,
      "outputs": [
        {
          "output_type": "stream",
          "name": "stdout",
          "text": [
            "relu adam : 0.7204483078438425\n"
          ]
        },
        {
          "output_type": "display_data",
          "data": {
            "text/plain": [
              "<Figure size 400x300 with 1 Axes>"
            ],
            "image/png": "[encoded data removed]"
          },
          "metadata": {}
        }
      ]
    },
    {
      "cell_type": "code",
      "source": [
        "import matplotlib.pyplot as plt\n",
        "regul= [0.0001, 0.001, 0.01, 0.1, 1]\n",
        "score_list_reg = []\n",
        "for i in range(0,5):\n",
        "  regAnn = MLPRegressor(activation= 'relu',solver='adam', alpha=regul[i],random_state=1, max_iter=2000)\n",
        "  scores = cross_val_score(regAnn, Xn_pca, y, cv=5)\n",
        "  score_list_reg.append(np.mean(scores))\n",
        "\n",
        "plt.figure(figsize=(4,3))\n",
        "plt.plot(regul, score_list_reg)\n",
        "plt.title(\"CrossVal por alpha\")\n",
        "plt.show() #Mejor es 0.0001"
      ],
      "metadata": {
        "colab": {
          "base_uri": "https://localhost:8080/",
          "height": 314
        },
        "id": "pSAL-8sHq_wI",
        "outputId": "f730744d-1f7f-4c6e-913a-2e2c99469e5c"
      },
      "execution_count": null,
      "outputs": [
        {
          "output_type": "display_data",
          "data": {
            "text/plain": [
              "<Figure size 400x300 with 1 Axes>"
            ],
            "image/png": "[encoded data removed]"
          },
          "metadata": {}
        }
      ]
    },
    {
      "cell_type": "code",
      "source": [
        "#Me quedo con:\n",
        "regAnn = MLPRegressor(activation= 'relu',solver='adam',random_state=1, max_iter=2000).fit(Xn_pca,y)"
      ],
      "metadata": {
        "id": "XKOGrN6zvPBG"
      },
      "execution_count": null,
      "outputs": []
    },
    {
      "cell_type": "code",
      "source": [
        "print(regAnn.score(Xn_hold_pca, y_hold))"
      ],
      "metadata": {
        "colab": {
          "base_uri": "https://localhost:8080/"
        },
        "id": "1bmUIP_tyh5n",
        "outputId": "05925abb-808b-47c4-aead-349dd13722e9"
      },
      "execution_count": null,
      "outputs": [
        {
          "output_type": "stream",
          "name": "stdout",
          "text": [
            "0.6568047238978265\n"
          ]
        }
      ]
    },
    {
      "cell_type": "markdown",
      "source": [
        "###**Guardar**"
      ],
      "metadata": {
        "id": "gIdU4-f7tBa9"
      }
    },
    {
      "cell_type": "code",
      "source": [
        "import pickle\n",
        "with open('modelo_ANN_Al.pkl', 'wb') as file:\n",
        "    pickle.dump(regAnn, file) #Fijarse que el modelo, scaler y pca estén ajustados con los parametros decididos\n",
        "\n",
        "with open('scaler_ANN_Al.pkl', 'wb') as file:\n",
        "    pickle.dump(scaler, file)\n",
        "  \n",
        "with open('pca_ANN_Al.pkl', 'wb') as file:\n",
        "    pickle.dump(pca, file)"
      ],
      "metadata": {
        "id": "YjKV-dw-tFnS"
      },
      "execution_count": null,
      "outputs": []
    },
    {
      "cell_type": "markdown",
      "source": [
        "###**Cargar**"
      ],
      "metadata": {
        "id": "JSnkXZCXtTRX"
      }
    },
    {
      "cell_type": "code",
      "source": [
        "with open('modelo_ANN_Al.pkl', 'rb') as file:\n",
        "    regAnn = pickle.load(file) #Fijarse que el modelo, scaler y pca estén ajustados con los parametros decididos\n",
        "\n",
        "with open('scaler_ANN_Al.pkl', 'rb') as file:\n",
        "    scaler = pickle.load(file)\n",
        "  \n",
        "with open('pca_ANN_Al.pkl', 'rb') as file:\n",
        "    pca = pickle.load(file)"
      ],
      "metadata": {
        "id": "USaNm84EtY6g"
      },
      "execution_count": null,
      "outputs": []
    },
    {
      "cell_type": "markdown",
      "source": [
        "###**Evaluar**\n",
        ">Con conjunto aparte: R2 = 0.657"
      ],
      "metadata": {
        "id": "iKe-2SSVtd5q"
      }
    },
    {
      "cell_type": "code",
      "source": [
        "X_hold_ev = scaler.transform(X_hold)\n",
        "X_hold_ev = pca.transform(X_hold_ev)\n",
        "print(regAnn.score(X_hold_ev, y_hold))"
      ],
      "metadata": {
        "colab": {
          "base_uri": "https://localhost:8080/"
        },
        "id": "bQGQQnoAth49",
        "outputId": "cc4c9284-abf8-4d60-e60c-1fd25ed2d92d"
      },
      "execution_count": null,
      "outputs": [
        {
          "output_type": "stream",
          "name": "stdout",
          "text": [
            "0.6568047238978265\n"
          ]
        }
      ]
    }
  ]
}